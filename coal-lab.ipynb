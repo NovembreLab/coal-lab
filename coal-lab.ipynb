{
 "cells": [
  {
   "cell_type": "markdown",
   "metadata": {},
   "source": [
    "# Human Variation and Diesase Coalescent Computer Lab\n",
    "---"
   ]
  },
  {
   "cell_type": "markdown",
   "metadata": {},
   "source": [
    "Welcome to the coalescent computer lab! Here we'll explore some fundamentals of the coalescent using exploratory data analysis (i.e. computing summary statistics / visualization) and simulation. We'll learn about & employ a powerful coalescent simulator called `msprime`, which allows us to efficiently generate genealogies under a given demography and subsequently sprinkle mutations on these genealogies to generate sequence data. Coalescent simulation is a very important tool to be equipped with for the modern population geneticist for a number of reasons...\n",
    "\n",
    "* It allows us to develop intuition for a simple generative model that can help to explain patterns in real data\n",
    "* We can use simulations to compare the accuracy of methods and see where they break down or succeed\n",
    "* Simulation can be used in inference, for instance to obtain monte carlo estimates for particular steps of a intractable model or perform approximate Bayesian inference (ABC)\n",
    "\n",
    "A quick note about computing: The environment we are in is called a `jupyter notebook`. A `jupyter notebook` is an interactive computational portal that allows us to make documents that combine simple text formats (markdown / latex) and code. This is quite powerful as we can write up analyses and explorations in the notebook and annotate visualizations & code with text and even math. Jupyter is primarily geared for `python` but one can actually change the \"kernel\" of the notebook to use `R` and even `julia`. Today we'll actually be using a very interesting python package called `rpy2` which allows us to run `R` commands in a `python` “kernel”. We can even pass objects created in python into an `R` code block. How this works will become more clear as we get started. \n",
    "\n",
    "Alright, now let us begin by importing various libraries that we'll be using in this notebook!"
   ]
  },
  {
   "cell_type": "markdown",
   "metadata": {},
   "source": [
    "## Imports / Configuration"
   ]
  },
  {
   "cell_type": "markdown",
   "metadata": {},
   "source": [
    "Here we load a jupyter extension that allows us to use `rpy2` to pass objects back and forth between `R` and `python` code blocks. "
   ]
  },
  {
   "cell_type": "code",
   "execution_count": 24,
   "metadata": {},
   "outputs": [],
   "source": [
    "%load_ext rpy2.ipython"
   ]
  },
  {
   "cell_type": "markdown",
   "metadata": {},
   "source": [
    "This is how we import packages in python. `numpy` is a python package for creating, manipulating and operating on arrays. As we mentioned previously, `msprime` is a python package for performing coalescent simulations. It expands upon [Dick Hudson's](http://home.uchicago.edu/rhudson1/), a UChicago professor and coalescent pioneer, `ms` software. `tskit` is a complementary package that allows us to work with the output of `msprime` simulations. We will also load the `Ipython` package which will allow us to better visualize the coalescent trees we simulate. "
   ]
  },
  {
   "cell_type": "code",
   "execution_count": 5,
   "metadata": {},
   "outputs": [],
   "source": [
    "import numpy as np\n",
    "import msprime \n",
    "import IPython\n",
    "import tskit"
   ]
  },
  {
   "cell_type": "markdown",
   "metadata": {},
   "source": [
    "Here is a quick example of how we can pass python objects into `R`. Lets first create a simple matrix $\\mathbf{A}$ "
   ]
  },
  {
   "cell_type": "code",
   "execution_count": 5,
   "metadata": {},
   "outputs": [
    {
     "data": {
      "text/plain": [
       "array([[1, 2],\n",
       "       [3, 4]])"
      ]
     },
     "execution_count": 5,
     "metadata": {},
     "output_type": "execute_result"
    }
   ],
   "source": [
    "A = np.array([[1,2], [3, 4]])\n",
    "A"
   ]
  },
  {
   "cell_type": "markdown",
   "metadata": {},
   "source": [
    "Lets now import $\\mathbf{A}$ into `R`. To use `R` run the `%%R` command in the top of the code block ..."
   ]
  },
  {
   "cell_type": "code",
   "execution_count": 6,
   "metadata": {},
   "outputs": [
    {
     "name": "stdout",
     "output_type": "stream",
     "text": [
      "     [,1] [,2]\n",
      "[1,]    1    2\n",
      "[2,]    3    4\n"
     ]
    }
   ],
   "source": [
    "%%R -i A\n",
    "A"
   ]
  },
  {
   "cell_type": "markdown",
   "metadata": {},
   "source": [
    "Cool! That seems to work. Lets try making simple plot ..."
   ]
  },
  {
   "cell_type": "code",
   "execution_count": 7,
   "metadata": {},
   "outputs": [
    {
     "data": {
      "image/png": "[encoded data removed]"
     },
     "metadata": {},
     "output_type": "display_data"
    }
   ],
   "source": [
    "%%R\n",
    "hist(rnorm(1000))"
   ]
  },
  {
   "cell_type": "markdown",
   "metadata": {},
   "source": [
    "We are now equipped to run the rest of the notebook ..."
   ]
  },
  {
   "cell_type": "markdown",
   "metadata": {},
   "source": [
    "---"
   ]
  },
  {
   "cell_type": "markdown",
   "metadata": {},
   "source": [
    "## Coalescent simulation using `msprime`"
   ]
  },
  {
   "cell_type": "markdown",
   "metadata": {},
   "source": [
    "msprime is a widely used software for runnning coalescent simulations. There is a tutorial located here (https://msprime.readthedocs.io/en/stable/tutorial.html). This is a really nice [jupyter notebook](https://github.com/jhmarcus/spg-chapter/) written by [Jerome Kelleher](https://github.com/jeromekelleher), the author of `msprime`. Click the launch binder button at the bottom of the page. We strongly encourage you to change parameters in the notebook and build intuition on how that affects properties of coalescent trees and see how it matches your predictions from the theory we've learned in class."
   ]
  },
  {
   "cell_type": "markdown",
   "metadata": {},
   "source": [
    "## Writing your own coalescent simulations"
   ]
  },
  {
   "cell_type": "markdown",
   "metadata": {},
   "source": [
    "Let's start by running our first simulation! To do this we will use the function msprime.simulate(), passing in the sample size and effective population size $N_e$ as arguments. Here we are simulating a sample size of 4 with an effective population size of 1,000. Since we haven't provided a recombination rate, we are only simulating a single coalescent tree. Because we didn't set a seed and the coalescent is a random process, every time you run the code block you should observe a different tree.   "
   ]
  },
  {
   "cell_type": "code",
   "execution_count": 28,
   "metadata": {},
   "outputs": [
    {
     "data": {
      "image/svg+xml": [
       "<svg baseProfile=\"full\" height=\"200\" version=\"1.1\" width=\"200\" xmlns=\"http://www.w3.org/2000/svg\" xmlns:ev=\"http://www.w3.org/2001/xml-events\" xmlns:xlink=\"http://www.w3.org/1999/xlink\"><defs/><g id=\"tree_0\"><g fill=\"none\" id=\"edges\" stroke=\"black\"><path d=\"M 46.0 170.0 V 30.0 H 77.5\" id=\"edge_0_2\"/><path d=\"M 109.0 122.55306900779868 V 30.0 H 77.5\" id=\"edge_0_5\"/><path d=\"M 82.0 170.0 V 122.55306900779868 H 109.0\" id=\"edge_0_1\"/><path d=\"M 136.0 143.9053497813165 V 122.55306900779868 H 109.0\" id=\"edge_0_4\"/><path d=\"M 118.0 170.0 V 143.9053497813165 H 136.0\" id=\"edge_0_0\"/><path d=\"M 154.0 170.0 V 143.9053497813165 H 136.0\" id=\"edge_0_3\"/></g><g id=\"symbols\"><g class=\"nodes\"><circle cx=\"77.5\" cy=\"30.0\" id=\"node_0_6\" r=\"3\"/><circle cx=\"46.0\" cy=\"170.0\" id=\"node_0_2\" r=\"3\"/><circle cx=\"109.0\" cy=\"122.55306900779868\" id=\"node_0_5\" r=\"3\"/><circle cx=\"82.0\" cy=\"170.0\" id=\"node_0_1\" r=\"3\"/><circle cx=\"136.0\" cy=\"143.9053497813165\" id=\"node_0_4\" r=\"3\"/><circle cx=\"118.0\" cy=\"170.0\" id=\"node_0_0\" r=\"3\"/><circle cx=\"154.0\" cy=\"170.0\" id=\"node_0_3\" r=\"3\"/></g><g class=\"mutations\" fill=\"red\"/></g><g font-size=\"14\" id=\"labels\"><g class=\"nodes\"><g text-anchor=\"start\"><text x=\"114.0\" y=\"117.55306900779868\">5</text><text x=\"141.0\" y=\"138.9053497813165\">4</text></g><g text-anchor=\"middle\"><text x=\"77.5\" y=\"25.0\">6</text><text x=\"46.0\" y=\"190.0\">2</text><text x=\"82.0\" y=\"190.0\">1</text><text x=\"118.0\" y=\"190.0\">0</text><text x=\"154.0\" y=\"190.0\">3</text></g><g text-anchor=\"end\"/></g><g class=\"mutations\" font-style=\"italic\"><g text-anchor=\"start\"/><g text-anchor=\"end\"/></g></g></g></svg>"
      ],
      "text/plain": [
       "<IPython.core.display.SVG object>"
      ]
     },
     "execution_count": 28,
     "metadata": {},
     "output_type": "execute_result"
    }
   ],
   "source": [
    "tree_sequence = msprime.simulate(sample_size=4, Ne=1000)\n",
    "tree = tree_sequence.first()\n",
    "IPython.display.SVG(tree.draw())"
   ]
  },
  {
   "cell_type": "markdown",
   "metadata": {},
   "source": [
    "Now that we have simulated a coalescent tree, we might want to learn some properties of it. For example, let's find the $T_{MRCA}$ for our tree. To do this we can use tree.time() which outputs the time to the most recent common ancestor in generations. "
   ]
  },
  {
   "cell_type": "code",
   "execution_count": 29,
   "metadata": {},
   "outputs": [
    {
     "data": {
      "text/plain": [
       "4723.116585893688"
      ]
     },
     "execution_count": 29,
     "metadata": {},
     "output_type": "execute_result"
    }
   ],
   "source": [
    "T_mrca = tree.time(tree.root)\n",
    "T_mrca"
   ]
  },
  {
   "cell_type": "markdown",
   "metadata": {},
   "source": [
    "However, this is just one simulation. Let's run 10,000 simulations and find the average $T_{MRCA}$."
   ]
  },
  {
   "cell_type": "code",
   "execution_count": 30,
   "metadata": {},
   "outputs": [
    {
     "data": {
      "text/plain": [
       "3009.4304092186853"
      ]
     },
     "execution_count": 30,
     "metadata": {},
     "output_type": "execute_result"
    }
   ],
   "source": [
    "num_reps = 10000\n",
    "T_mrca = np.zeros(num_reps)\n",
    "for j, ts in enumerate(msprime.simulate(sample_size=4, Ne=1000,num_replicates=num_reps)):\n",
    "    tree = ts.first()\n",
    "    T_mrca[j] = tree.time(tree.root)\n",
    "np.mean(T_mrca)"
   ]
  },
  {
   "cell_type": "markdown",
   "metadata": {},
   "source": [
    "**Question** Compare the result above to our theoretical expectation for $T_{MRCA}$ for $n=5$ and $N_e = 1000$. Then re-run the 10,000 simulations for $N_e = 10000$, do you expect the average $T_{MRCA}$ to increase or decrease, why? "
   ]
  },
  {
   "cell_type": "markdown",
   "metadata": {},
   "source": [
    "**Answer** "
   ]
  },
  {
   "cell_type": "code",
   "execution_count": 27,
   "metadata": {},
   "outputs": [
    {
     "name": "stdout",
     "output_type": "stream",
     "text": [
      "[1] 3000\n",
      "[1] 30000\n"
     ]
    }
   ],
   "source": [
    "%%R \n",
    "# your R code goes here\n",
    "\n",
    "# Theoretical expectation for N=1000\n",
    "print(4*1000 * (1 - (1/4)))\n",
    "\n",
    "# Theoretical expectation for N=10000\n",
    "print(4*10000 * (1 - (1/4)))\n",
    "\n"
   ]
  },
  {
   "cell_type": "code",
   "execution_count": 31,
   "metadata": {},
   "outputs": [
    {
     "data": {
      "text/plain": [
       "30206.59400550834"
      ]
     },
     "execution_count": 31,
     "metadata": {},
     "output_type": "execute_result"
    }
   ],
   "source": [
    "# your python code goes here \n",
    "num_reps = 10000\n",
    "T_mrca = np.zeros(num_reps)\n",
    "for j, ts in enumerate(msprime.simulate(sample_size=4, Ne=10000,num_replicates=num_reps)):\n",
    "    tree = ts.first()\n",
    "    T_mrca[j] = tree.time(tree.root)\n",
    "np.mean(T_mrca)"
   ]
  },
  {
   "cell_type": "markdown",
   "metadata": {},
   "source": [
    "### Adding Recombination  "
   ]
  },
  {
   "cell_type": "markdown",
   "metadata": {},
   "source": [
    "While simulating a single coalescent tree is useful, often times we are interested in a locus of a specific length under the influence of recombination. This will create a series of coalescent trees over the length of our locus. In `msprime` we can use the same msprime.simulate() function and add two arguments, length and recombination_rate. The length parameter is the number of base pairs and recombination rate is in units of per base per generation. Here we are simulating trees across over a 10kb region with a recombination rate of $2×10^{−8}$ per base per generation, with a diploid effective population size of 1000   "
   ]
  },
  {
   "cell_type": "code",
   "execution_count": 13,
   "metadata": {},
   "outputs": [
    {
     "name": "stdout",
     "output_type": "stream",
     "text": [
      "--------------------\n",
      "tree 0: interval = (0.0, 1506.6544063171964)\n",
      "   6     \n",
      " ┏━┻━┓   \n",
      " ┃   5   \n",
      " ┃  ┏┻┓  \n",
      " 4  ┃ ┃  \n",
      "┏┻┓ ┃ ┃  \n",
      "0 3 1 2  \n",
      "\n",
      "--------------------\n",
      "tree 1: interval = (1506.6544063171964, 2738.340972628989)\n",
      "   8     \n",
      " ┏━┻━┓   \n",
      " ┃   5   \n",
      " ┃  ┏┻┓  \n",
      " 4  ┃ ┃  \n",
      "┏┻┓ ┃ ┃  \n",
      "0 3 1 2  \n",
      "\n",
      "--------------------\n",
      "tree 2: interval = (2738.340972628989, 8361.43215148743)\n",
      "   7     \n",
      " ┏━┻━┓   \n",
      " ┃   5   \n",
      " ┃  ┏┻┓  \n",
      " 4  ┃ ┃  \n",
      "┏┻┓ ┃ ┃  \n",
      "0 3 1 2  \n",
      "\n",
      "--------------------\n",
      "tree 3: interval = (8361.43215148743, 10000.0)\n",
      "   8     \n",
      " ┏━┻━┓   \n",
      " ┃   5   \n",
      " ┃  ┏┻┓  \n",
      " 4  ┃ ┃  \n",
      "┏┻┓ ┃ ┃  \n",
      "0 3 1 2  \n",
      "\n"
     ]
    }
   ],
   "source": [
    "tree_sequence = msprime.simulate(sample_size=4, Ne=1000, length=1e4, recombination_rate=2e-8, random_seed=31)\n",
    "# Let's look at the trees we made and the intervals they occur over \n",
    "for tree in tree_sequence.trees():\n",
    "    print(\"-\" * 20)\n",
    "    print(\"tree {}: interval = {}\".format(tree.index, tree.interval))\n",
    "    print(tree.draw(format=\"unicode\"))"
   ]
  },
  {
   "cell_type": "markdown",
   "metadata": {},
   "source": [
    "We have printed out the series of 4 coalescent trees for our locus and the intervals they occur over."
   ]
  },
  {
   "cell_type": "markdown",
   "metadata": {},
   "source": [
    "### Adding mutation"
   ]
  },
  {
   "cell_type": "markdown",
   "metadata": {},
   "source": [
    "So far we have simulated a region of chromosome with recombination, now want to put mutations down onto our sequence of coalescent trees. Mutations are generated in msprime by throwing mutations down on the branches of trees at a particular rate. The mutations are generated under the infinite sites model, and so each mutation occurs at a unique (floating point) point position along the genomic interval occupied by a tree. The mutation rate for simulations is specified using the mutation_rate parameter of msprime.simulate(). Below we will simulate 50kb or non-recombiing chromosome and add mutations onto the coalescent tree."
   ]
  },
  {
   "cell_type": "code",
   "execution_count": 6,
   "metadata": {},
   "outputs": [
    {
     "name": "stdout",
     "output_type": "stream",
     "text": [
      "Mutation @ position 1239.40 over node 13\n",
      "Mutation @ position 8842.09 over node 13\n",
      "Mutation @ position 11759.03 over node 11\n",
      "Mutation @ position 15806.67 over node 2\n",
      "Mutation @ position 16177.68 over node 13\n",
      "Mutation @ position 16762.10 over node 2\n",
      "Mutation @ position 17312.52 over node 2\n",
      "Mutation @ position 18349.37 over node 12\n",
      "Mutation @ position 29771.91 over node 2\n",
      "Mutation @ position 34897.51 over node 17\n",
      "Mutation @ position 41735.75 over node 12\n",
      "Mutation @ position 46566.56 over node 10\n",
      "Mutation @ position 49697.99 over node 14\n"
     ]
    },
    {
     "data": {
      "image/svg+xml": [
       "<svg baseProfile=\"full\" height=\"200\" version=\"1.1\" width=\"200\" xmlns=\"http://www.w3.org/2000/svg\" xmlns:ev=\"http://www.w3.org/2001/xml-events\" xmlns:xlink=\"http://www.w3.org/1999/xlink\"><defs/><g id=\"tree_0\"><g fill=\"none\" id=\"edges\" stroke=\"black\"><path d=\"M 26.363636363636363 170.0 V 30.0 H 47.20170454545455\" id=\"edge_0_2\"/><path d=\"M 68.03977272727273 102.20292031225392 V 30.0 H 47.20170454545455\" id=\"edge_0_17\"/><path d=\"M 42.72727272727273 170.0 V 102.20292031225392 H 68.03977272727273\" id=\"edge_0_5\"/><path d=\"M 93.35227272727273 108.62444075738833 V 102.20292031225392 H 68.03977272727273\" id=\"edge_0_16\"/><path d=\"M 67.27272727272728 166.4220977461257 V 108.62444075738833 H 93.35227272727273\" id=\"edge_0_12\"/><path d=\"M 59.09090909090909 170.0 V 166.4220977461257 H 67.27272727272728\" id=\"edge_0_1\"/><path d=\"M 75.45454545454545 170.0 V 166.4220977461257 H 67.27272727272728\" id=\"edge_0_3\"/><path d=\"M 119.43181818181819 117.22799255853764 V 108.62444075738833 H 93.35227272727273\" id=\"edge_0_15\"/><path d=\"M 100.0 167.7295594683381 V 117.22799255853764 H 119.43181818181819\" id=\"edge_0_10\"/><path d=\"M 91.81818181818181 170.0 V 167.7295594683381 H 100.0\" id=\"edge_0_0\"/><path d=\"M 108.18181818181817 170.0 V 167.7295594683381 H 100.0\" id=\"edge_0_6\"/><path d=\"M 138.86363636363637 129.02359421093973 V 117.22799255853764 H 119.43181818181819\" id=\"edge_0_14\"/><path d=\"M 124.54545454545453 170.0 V 129.02359421093973 H 138.86363636363637\" id=\"edge_0_9\"/><path d=\"M 153.1818181818182 160.65109783308878 V 129.02359421093973 H 138.86363636363637\" id=\"edge_0_13\"/><path d=\"M 140.9090909090909 170.0 V 160.65109783308878 H 153.1818181818182\" id=\"edge_0_8\"/><path d=\"M 165.45454545454547 167.05322198701006 V 160.65109783308878 H 153.1818181818182\" id=\"edge_0_11\"/><path d=\"M 157.27272727272728 170.0 V 167.05322198701006 H 165.45454545454547\" id=\"edge_0_4\"/><path d=\"M 173.63636363636365 170.0 V 167.05322198701006 H 165.45454545454547\" id=\"edge_0_7\"/></g><g id=\"symbols\"><g class=\"nodes\"><circle cx=\"47.20170454545455\" cy=\"30.0\" id=\"node_0_18\" r=\"3\"/><circle cx=\"26.363636363636363\" cy=\"170.0\" id=\"node_0_2\" r=\"3\"/><circle cx=\"68.03977272727273\" cy=\"102.20292031225392\" id=\"node_0_17\" r=\"3\"/><circle cx=\"42.72727272727273\" cy=\"170.0\" id=\"node_0_5\" r=\"3\"/><circle cx=\"93.35227272727273\" cy=\"108.62444075738833\" id=\"node_0_16\" r=\"3\"/><circle cx=\"67.27272727272728\" cy=\"166.4220977461257\" id=\"node_0_12\" r=\"3\"/><circle cx=\"59.09090909090909\" cy=\"170.0\" id=\"node_0_1\" r=\"3\"/><circle cx=\"75.45454545454545\" cy=\"170.0\" id=\"node_0_3\" r=\"3\"/><circle cx=\"119.43181818181819\" cy=\"117.22799255853764\" id=\"node_0_15\" r=\"3\"/><circle cx=\"100.0\" cy=\"167.7295594683381\" id=\"node_0_10\" r=\"3\"/><circle cx=\"91.81818181818181\" cy=\"170.0\" id=\"node_0_0\" r=\"3\"/><circle cx=\"108.18181818181817\" cy=\"170.0\" id=\"node_0_6\" r=\"3\"/><circle cx=\"138.86363636363637\" cy=\"129.02359421093973\" id=\"node_0_14\" r=\"3\"/><circle cx=\"124.54545454545453\" cy=\"170.0\" id=\"node_0_9\" r=\"3\"/><circle cx=\"153.1818181818182\" cy=\"160.65109783308878\" id=\"node_0_13\" r=\"3\"/><circle cx=\"140.9090909090909\" cy=\"170.0\" id=\"node_0_8\" r=\"3\"/><circle cx=\"165.45454545454547\" cy=\"167.05322198701006\" id=\"node_0_11\" r=\"3\"/><circle cx=\"157.27272727272728\" cy=\"170.0\" id=\"node_0_4\" r=\"3\"/><circle cx=\"173.63636363636365\" cy=\"170.0\" id=\"node_0_7\" r=\"3\"/></g><g class=\"mutations\" fill=\"red\"><rect height=\"6\" transform=\"translate(-3, -3)\" width=\"6\" x=\"26.363636363636363\" y=\"58.0\"/><rect height=\"6\" transform=\"translate(-3, -3)\" width=\"6\" x=\"26.363636363636363\" y=\"86.0\"/><rect height=\"6\" transform=\"translate(-3, -3)\" width=\"6\" x=\"26.363636363636363\" y=\"114.0\"/><rect height=\"6\" transform=\"translate(-3, -3)\" width=\"6\" x=\"26.363636363636363\" y=\"142.0\"/><rect height=\"6\" transform=\"translate(-3, -3)\" width=\"6\" x=\"68.03977272727273\" y=\"66.10146015612696\"/><rect height=\"6\" transform=\"translate(-3, -3)\" width=\"6\" x=\"67.27272727272728\" y=\"127.89032642030078\"/><rect height=\"6\" transform=\"translate(-3, -3)\" width=\"6\" x=\"67.27272727272728\" y=\"147.15621208321323\"/><rect height=\"6\" transform=\"translate(-3, -3)\" width=\"6\" x=\"100.0\" y=\"142.47877601343788\"/><rect height=\"6\" transform=\"translate(-3, -3)\" width=\"6\" x=\"138.86363636363637\" y=\"123.12579338473869\"/><rect height=\"6\" transform=\"translate(-3, -3)\" width=\"6\" x=\"153.1818181818182\" y=\"136.930470116477\"/><rect height=\"6\" transform=\"translate(-3, -3)\" width=\"6\" x=\"153.1818181818182\" y=\"144.8373460220143\"/><rect height=\"6\" transform=\"translate(-3, -3)\" width=\"6\" x=\"153.1818181818182\" y=\"152.74422192755156\"/><rect height=\"6\" transform=\"translate(-3, -3)\" width=\"6\" x=\"165.45454545454547\" y=\"163.8521599100494\"/></g></g><g font-size=\"14\" id=\"labels\"><g class=\"nodes\"><g text-anchor=\"start\"><text x=\"73.03977272727273\" y=\"97.20292031225392\">17</text><text x=\"98.35227272727273\" y=\"103.62444075738833\">16</text><text x=\"124.43181818181819\" y=\"112.22799255853764\">15</text><text x=\"143.86363636363637\" y=\"124.02359421093973\">14</text><text x=\"158.1818181818182\" y=\"155.65109783308878\">13</text><text x=\"170.45454545454547\" y=\"162.05322198701006\">11</text></g><g text-anchor=\"middle\"><text x=\"47.20170454545455\" y=\"25.0\">18</text><text x=\"26.363636363636363\" y=\"190.0\">2</text><text x=\"42.72727272727273\" y=\"190.0\">5</text><text x=\"59.09090909090909\" y=\"190.0\">1</text><text x=\"75.45454545454545\" y=\"190.0\">3</text><text x=\"91.81818181818181\" y=\"190.0\">0</text><text x=\"108.18181818181817\" y=\"190.0\">6</text><text x=\"124.54545454545453\" y=\"190.0\">9</text><text x=\"140.9090909090909\" y=\"190.0\">8</text><text x=\"157.27272727272728\" y=\"190.0\">4</text><text x=\"173.63636363636365\" y=\"190.0\">7</text></g><g text-anchor=\"end\"><text x=\"62.27272727272728\" y=\"161.4220977461257\">12</text><text x=\"95.0\" y=\"162.7295594683381\">10</text></g></g><g class=\"mutations\" font-style=\"italic\"><g text-anchor=\"start\"><text x=\"73.03977272727273\" y=\"70.10146015612696\">9</text><text x=\"143.86363636363637\" y=\"127.12579338473869\">12</text><text x=\"158.1818181818182\" y=\"140.930470116477\">4</text><text x=\"158.1818181818182\" y=\"148.8373460220143\">1</text><text x=\"158.1818181818182\" y=\"156.74422192755156\">0</text><text x=\"170.45454545454547\" y=\"167.8521599100494\">2</text></g><g text-anchor=\"end\"><text x=\"21.363636363636363\" y=\"62.0\">8</text><text x=\"21.363636363636363\" y=\"90.0\">6</text><text x=\"21.363636363636363\" y=\"118.0\">5</text><text x=\"21.363636363636363\" y=\"146.0\">3</text><text x=\"62.27272727272728\" y=\"131.89032642030077\">10</text><text x=\"62.27272727272728\" y=\"151.15621208321323\">7</text><text x=\"95.0\" y=\"146.47877601343788\">11</text></g></g></g></g></svg>"
      ],
      "text/plain": [
       "<IPython.core.display.SVG object>"
      ]
     },
     "execution_count": 6,
     "metadata": {},
     "output_type": "execute_result"
    }
   ],
   "source": [
    "tree_sequence = msprime.simulate(\n",
    "    sample_size=10, Ne=1000, length=50e3, mutation_rate=2e-8, random_seed=30)\n",
    "tree = tree_sequence.first()\n",
    "for site in tree.sites():\n",
    "     for mutation in site.mutations:\n",
    "            print(\"Mutation @ position {:.2f} over node {}\".format(\n",
    "                site.position, mutation.node))\n",
    "IPython.display.SVG(tree.draw())"
   ]
  },
  {
   "cell_type": "markdown",
   "metadata": {},
   "source": [
    "From here we can create a genotype matrix for our samples. Python and R store integer numbers in different formats. The int8 command will convert python’s format into R’s format so we can work with it later using R code."
   ]
  },
  {
   "cell_type": "code",
   "execution_count": 7,
   "metadata": {},
   "outputs": [
    {
     "data": {
      "text/plain": [
       "array([[0, 0, 0, 0, 1, 0, 0, 1, 1, 0],\n",
       "       [0, 0, 0, 0, 1, 0, 0, 1, 1, 0],\n",
       "       [0, 0, 0, 0, 1, 0, 0, 1, 0, 0],\n",
       "       [0, 0, 1, 0, 0, 0, 0, 0, 0, 0],\n",
       "       [0, 0, 0, 0, 1, 0, 0, 1, 1, 0],\n",
       "       [0, 0, 1, 0, 0, 0, 0, 0, 0, 0],\n",
       "       [0, 0, 1, 0, 0, 0, 0, 0, 0, 0],\n",
       "       [0, 1, 0, 1, 0, 0, 0, 0, 0, 0],\n",
       "       [0, 0, 1, 0, 0, 0, 0, 0, 0, 0],\n",
       "       [1, 1, 0, 1, 1, 1, 1, 1, 1, 1],\n",
       "       [0, 1, 0, 1, 0, 0, 0, 0, 0, 0],\n",
       "       [1, 0, 0, 0, 0, 0, 1, 0, 0, 0],\n",
       "       [0, 0, 0, 0, 1, 0, 0, 1, 1, 1]], dtype=int8)"
      ]
     },
     "execution_count": 7,
     "metadata": {},
     "output_type": "execute_result"
    }
   ],
   "source": [
    "G = tree_sequence.genotype_matrix() \n",
    "# We need to convert data type so we can work with the genotype matrix in R\n",
    "G = np.int8(G)\n",
    "G"
   ]
  },
  {
   "cell_type": "markdown",
   "metadata": {},
   "source": [
    "In the genotype matrix each individual is a separate column and each mutation is a row. If we look at individual 2, we see that the should have a \"1\" indicating that they have the mutation for mutations 3, 5, 6, and 8. Remember that python indexes from zero individuals are numbered 0,1,..,9. So individual 2 is the third column of the genotype matrix."
   ]
  },
  {
   "cell_type": "markdown",
   "metadata": {},
   "source": [
    "**Question 2** Write a function to calculate the site frequency spectrum from the genotype matrix. Use your function to plot the SFS for G. "
   ]
  },
  {
   "cell_type": "code",
   "execution_count": 26,
   "metadata": {},
   "outputs": [
    {
     "name": "stdout",
     "output_type": "stream",
     "text": [
      "sfs\n",
      "1 2 3 4 9 \n",
      "4 4 3 1 1 \n"
     ]
    },
    {
     "data": {
      "image/png": "[encoded data removed]"
     },
     "metadata": {},
     "output_type": "display_data"
    }
   ],
   "source": [
    "%%R -i G\n",
    "# R code goes here\n",
    "SFS <- function(G) { \n",
    "    G <- t(G)\n",
    "    sfs <- colSums(G) \n",
    "    out <- table(sfs) \n",
    "    return(out)\n",
    "}\n",
    "\n",
    "barplot(SFS(G))"
   ]
  },
  {
   "cell_type": "code",
   "execution_count": null,
   "metadata": {},
   "outputs": [],
   "source": [
    "## python code goes here "
   ]
  },
  {
   "cell_type": "markdown",
   "metadata": {},
   "source": [
    "We can also use `tskit` to calculate some familar summary statistics directly from our tree sequence object. tree_sequence.diversity() calculates nucleotide diversity, $\\pi$. tree_sequence.segregating_sites() calculates the number of segregating sites, the argument span_normalise=False tells the function to give us the number of segregating sites rather than the density of segregating sites. Finally, tree_sequence.Tajimas_D() calculates Tajima's D for our sample.  "
   ]
  },
  {
   "cell_type": "code",
   "execution_count": 21,
   "metadata": {},
   "outputs": [
    {
     "name": "stdout",
     "output_type": "stream",
     "text": [
      "8.711111111111114e-05\n",
      "13.0\n",
      "-0.2374181244410529\n"
     ]
    }
   ],
   "source": [
    "# Nucleotide diversity (pi)\n",
    "print(tree_sequence.diversity()) \n",
    "# Number of segregating sites \n",
    "print(tree_sequence.segregating_sites(span_normalise=False))\n",
    "# Tajima's D\n",
    "print(tree_sequence.Tajimas_D())\n"
   ]
  },
  {
   "cell_type": "markdown",
   "metadata": {},
   "source": [
    "## Simulating under different demographic models "
   ]
  },
  {
   "cell_type": "markdown",
   "metadata": {},
   "source": [
    "Thus far we have focused on running coalescent simulations under a constant population size model. While these models are very important for building intuition and establishing theoretical expectations, we know that human populations have not had a constant population size. Now we will practice simulations under different situations, including population growth and population bottlenecks. "
   ]
  },
  {
   "cell_type": "code",
   "execution_count": 121,
   "metadata": {},
   "outputs": [
    {
     "name": "stdout",
     "output_type": "stream",
     "text": [
      "0.00015288888888888888\n",
      "23.0\n",
      "-0.2831596158247124\n"
     ]
    },
    {
     "data": {
      "image/svg+xml": [
       "<svg baseProfile=\"full\" height=\"200\" version=\"1.1\" width=\"200\" xmlns=\"http://www.w3.org/2000/svg\" xmlns:ev=\"http://www.w3.org/2001/xml-events\" xmlns:xlink=\"http://www.w3.org/1999/xlink\"><defs/><g id=\"tree_0\"><g fill=\"none\" id=\"edges\" stroke=\"black\"><path d=\"M 40.68181818181818 108.56173984402466 V 30.0 H 82.61363636363637\" id=\"edge_0_15\"/><path d=\"M 26.363636363636363 170.0 V 108.56173984402466 H 40.68181818181818\" id=\"edge_0_8\"/><path d=\"M 55.0 128.10474025974753 V 108.56173984402466 H 40.68181818181818\" id=\"edge_0_14\"/><path d=\"M 42.72727272727273 170.0 V 128.10474025974753 H 55.0\" id=\"edge_0_5\"/><path d=\"M 67.27272727272728 135.8491001054082 V 128.10474025974753 H 55.0\" id=\"edge_0_13\"/><path d=\"M 59.09090909090909 170.0 V 135.8491001054082 H 67.27272727272728\" id=\"edge_0_4\"/><path d=\"M 75.45454545454545 170.0 V 135.8491001054082 H 67.27272727272728\" id=\"edge_0_6\"/><path d=\"M 124.54545454545455 37.4578627178866 V 30.0 H 82.61363636363637\" id=\"edge_0_17\"/><path d=\"M 100.0 144.2202497049272 V 37.4578627178866 H 124.54545454545455\" id=\"edge_0_12\"/><path d=\"M 91.81818181818181 170.0 V 144.2202497049272 H 100.0\" id=\"edge_0_2\"/><path d=\"M 108.18181818181817 170.0 V 144.2202497049272 H 100.0\" id=\"edge_0_9\"/><path d=\"M 149.0909090909091 82.17016047250478 V 37.4578627178866 H 124.54545454545455\" id=\"edge_0_16\"/><path d=\"M 132.72727272727272 165.86668367708512 V 82.17016047250478 H 149.0909090909091\" id=\"edge_0_10\"/><path d=\"M 124.54545454545453 170.0 V 165.86668367708512 H 132.72727272727272\" id=\"edge_0_3\"/><path d=\"M 140.9090909090909 170.0 V 165.86668367708512 H 132.72727272727272\" id=\"edge_0_7\"/><path d=\"M 165.45454545454547 159.12524302621904 V 82.17016047250478 H 149.0909090909091\" id=\"edge_0_11\"/><path d=\"M 157.27272727272728 170.0 V 159.12524302621904 H 165.45454545454547\" id=\"edge_0_0\"/><path d=\"M 173.63636363636365 170.0 V 159.12524302621904 H 165.45454545454547\" id=\"edge_0_1\"/></g><g id=\"symbols\"><g class=\"nodes\"><circle cx=\"82.61363636363637\" cy=\"30.0\" id=\"node_0_18\" r=\"3\"/><circle cx=\"40.68181818181818\" cy=\"108.56173984402466\" id=\"node_0_15\" r=\"3\"/><circle cx=\"26.363636363636363\" cy=\"170.0\" id=\"node_0_8\" r=\"3\"/><circle cx=\"55.0\" cy=\"128.10474025974753\" id=\"node_0_14\" r=\"3\"/><circle cx=\"42.72727272727273\" cy=\"170.0\" id=\"node_0_5\" r=\"3\"/><circle cx=\"67.27272727272728\" cy=\"135.8491001054082\" id=\"node_0_13\" r=\"3\"/><circle cx=\"59.09090909090909\" cy=\"170.0\" id=\"node_0_4\" r=\"3\"/><circle cx=\"75.45454545454545\" cy=\"170.0\" id=\"node_0_6\" r=\"3\"/><circle cx=\"124.54545454545455\" cy=\"37.4578627178866\" id=\"node_0_17\" r=\"3\"/><circle cx=\"100.0\" cy=\"144.2202497049272\" id=\"node_0_12\" r=\"3\"/><circle cx=\"91.81818181818181\" cy=\"170.0\" id=\"node_0_2\" r=\"3\"/><circle cx=\"108.18181818181817\" cy=\"170.0\" id=\"node_0_9\" r=\"3\"/><circle cx=\"149.0909090909091\" cy=\"82.17016047250478\" id=\"node_0_16\" r=\"3\"/><circle cx=\"132.72727272727272\" cy=\"165.86668367708512\" id=\"node_0_10\" r=\"3\"/><circle cx=\"124.54545454545453\" cy=\"170.0\" id=\"node_0_3\" r=\"3\"/><circle cx=\"140.9090909090909\" cy=\"170.0\" id=\"node_0_7\" r=\"3\"/><circle cx=\"165.45454545454547\" cy=\"159.12524302621904\" id=\"node_0_11\" r=\"3\"/><circle cx=\"157.27272727272728\" cy=\"170.0\" id=\"node_0_0\" r=\"3\"/><circle cx=\"173.63636363636365\" cy=\"170.0\" id=\"node_0_1\" r=\"3\"/></g><g class=\"mutations\" fill=\"red\"><rect height=\"6\" transform=\"translate(-3, -3)\" width=\"6\" x=\"40.68181818181818\" y=\"45.712347968804934\"/><rect height=\"6\" transform=\"translate(-3, -3)\" width=\"6\" x=\"40.68181818181818\" y=\"61.42469593760987\"/><rect height=\"6\" transform=\"translate(-3, -3)\" width=\"6\" x=\"40.68181818181818\" y=\"77.1370439064148\"/><rect height=\"6\" transform=\"translate(-3, -3)\" width=\"6\" x=\"40.68181818181818\" y=\"92.84939187521974\"/><rect height=\"6\" transform=\"translate(-3, -3)\" width=\"6\" x=\"26.363636363636363\" y=\"123.9213048830185\"/><rect height=\"6\" transform=\"translate(-3, -3)\" width=\"6\" x=\"26.363636363636363\" y=\"139.28086992201233\"/><rect height=\"6\" transform=\"translate(-3, -3)\" width=\"6\" x=\"26.363636363636363\" y=\"154.64043496100618\"/><rect height=\"6\" transform=\"translate(-3, -3)\" width=\"6\" x=\"42.72727272727273\" y=\"149.05237012987376\"/><rect height=\"6\" transform=\"translate(-3, -3)\" width=\"6\" x=\"75.45454545454545\" y=\"147.23273340360547\"/><rect height=\"6\" transform=\"translate(-3, -3)\" width=\"6\" x=\"75.45454545454545\" y=\"158.61636670180272\"/><rect height=\"6\" transform=\"translate(-3, -3)\" width=\"6\" x=\"100.0\" y=\"64.14845946464675\"/><rect height=\"6\" transform=\"translate(-3, -3)\" width=\"6\" x=\"100.0\" y=\"90.8390562114069\"/><rect height=\"6\" transform=\"translate(-3, -3)\" width=\"6\" x=\"100.0\" y=\"117.52965295816705\"/><rect height=\"6\" transform=\"translate(-3, -3)\" width=\"6\" x=\"108.18181818181817\" y=\"157.1101248524636\"/><rect height=\"6\" transform=\"translate(-3, -3)\" width=\"6\" x=\"132.72727272727272\" y=\"96.11958100660149\"/><rect height=\"6\" transform=\"translate(-3, -3)\" width=\"6\" x=\"132.72727272727272\" y=\"110.06900154069822\"/><rect height=\"6\" transform=\"translate(-3, -3)\" width=\"6\" x=\"132.72727272727272\" y=\"124.01842207479496\"/><rect height=\"6\" transform=\"translate(-3, -3)\" width=\"6\" x=\"132.72727272727272\" y=\"137.9678426088917\"/><rect height=\"6\" transform=\"translate(-3, -3)\" width=\"6\" x=\"132.72727272727272\" y=\"151.91726314298842\"/><rect height=\"6\" transform=\"translate(-3, -3)\" width=\"6\" x=\"165.45454545454547\" y=\"101.40893111093334\"/><rect height=\"6\" transform=\"translate(-3, -3)\" width=\"6\" x=\"165.45454545454547\" y=\"120.6477017493619\"/><rect height=\"6\" transform=\"translate(-3, -3)\" width=\"6\" x=\"165.45454545454547\" y=\"139.88647238779046\"/><rect height=\"6\" transform=\"translate(-3, -3)\" width=\"6\" x=\"173.63636363636365\" y=\"164.56262151310952\"/></g></g><g font-size=\"14\" id=\"labels\"><g class=\"nodes\"><g text-anchor=\"start\"><text x=\"60.0\" y=\"123.10474025974753\">14</text><text x=\"72.27272727272728\" y=\"130.8491001054082\">13</text><text x=\"129.54545454545456\" y=\"32.4578627178866\">17</text><text x=\"154.0909090909091\" y=\"77.17016047250478\">16</text><text x=\"170.45454545454547\" y=\"154.12524302621904\">11</text></g><g text-anchor=\"middle\"><text x=\"82.61363636363637\" y=\"25.0\">18</text><text x=\"26.363636363636363\" y=\"190.0\">8</text><text x=\"42.72727272727273\" y=\"190.0\">5</text><text x=\"59.09090909090909\" y=\"190.0\">4</text><text x=\"75.45454545454545\" y=\"190.0\">6</text><text x=\"91.81818181818181\" y=\"190.0\">2</text><text x=\"108.18181818181817\" y=\"190.0\">9</text><text x=\"124.54545454545453\" y=\"190.0\">3</text><text x=\"140.9090909090909\" y=\"190.0\">7</text><text x=\"157.27272727272728\" y=\"190.0\">0</text><text x=\"173.63636363636365\" y=\"190.0\">1</text></g><g text-anchor=\"end\"><text x=\"35.68181818181818\" y=\"103.56173984402466\">15</text><text x=\"95.0\" y=\"139.2202497049272\">12</text><text x=\"127.72727272727272\" y=\"160.86668367708512\">10</text></g></g><g class=\"mutations\" font-style=\"italic\"><g text-anchor=\"start\"><text x=\"80.45454545454545\" y=\"151.23273340360547\">21</text><text x=\"80.45454545454545\" y=\"162.61636670180272\">11</text><text x=\"113.18181818181817\" y=\"161.1101248524636\">13</text><text x=\"170.45454545454547\" y=\"105.40893111093334\">16</text><text x=\"170.45454545454547\" y=\"124.6477017493619\">12</text><text x=\"170.45454545454547\" y=\"143.88647238779046\">7</text><text x=\"178.63636363636365\" y=\"168.56262151310952\">5</text></g><g text-anchor=\"end\"><text x=\"35.68181818181818\" y=\"49.712347968804934\">22</text><text x=\"35.68181818181818\" y=\"65.42469593760987\">17</text><text x=\"35.68181818181818\" y=\"81.1370439064148\">8</text><text x=\"35.68181818181818\" y=\"96.84939187521974\">4</text><text x=\"21.363636363636363\" y=\"127.9213048830185\">19</text><text x=\"21.363636363636363\" y=\"143.28086992201233\">18</text><text x=\"21.363636363636363\" y=\"158.64043496100618\">0</text><text x=\"37.72727272727273\" y=\"153.05237012987376\">14</text><text x=\"95.0\" y=\"68.14845946464675\">10</text><text x=\"95.0\" y=\"94.8390562114069\">6</text><text x=\"95.0\" y=\"121.52965295816705\">1</text><text x=\"127.72727272727272\" y=\"100.11958100660149\">20</text><text x=\"127.72727272727272\" y=\"114.06900154069822\">15</text><text x=\"127.72727272727272\" y=\"128.01842207479496\">9</text><text x=\"127.72727272727272\" y=\"141.9678426088917\">3</text><text x=\"127.72727272727272\" y=\"155.91726314298842\">2</text></g></g></g></g></svg>"
      ],
      "text/plain": [
       "<IPython.core.display.SVG object>"
      ]
     },
     "execution_count": 121,
     "metadata": {},
     "output_type": "execute_result"
    }
   ],
   "source": [
    "tree_sequence = msprime.simulate(\n",
    "    sample_size=10, Ne=1000, length=50e3, mutation_rate=5e-8, random_seed=13)\n",
    "\n",
    "# Nucleotide diversity (pi)\n",
    "print(tree_sequence.diversity()) \n",
    "# Number of segregating sites \n",
    "print(tree_sequence.segregating_sites(span_normalise=False))\n",
    "# Tajima's D\n",
    "print(tree_sequence.Tajimas_D())\n",
    "\n",
    "IPython.display.SVG(tree_sequence.first().draw())"
   ]
  },
  {
   "cell_type": "code",
   "execution_count": 131,
   "metadata": {},
   "outputs": [
    {
     "name": "stdout",
     "output_type": "stream",
     "text": [
      "0.00016755555555555553\n",
      "21.0\n",
      "0.606301005086103\n"
     ]
    },
    {
     "data": {
      "image/svg+xml": [
       "<svg baseProfile=\"full\" height=\"200\" version=\"1.1\" width=\"200\" xmlns=\"http://www.w3.org/2000/svg\" xmlns:ev=\"http://www.w3.org/2001/xml-events\" xmlns:xlink=\"http://www.w3.org/1999/xlink\"><defs/><g id=\"tree_0\"><g fill=\"none\" id=\"edges\" stroke=\"black\"><path d=\"M 52.95454545454545 151.84484095860583 V 30.0 H 97.95454545454544\" id=\"edge_0_16\"/><path d=\"M 34.54545454545455 169.14405672841343 V 151.84484095860583 H 52.95454545454545\" id=\"edge_0_10\"/><path d=\"M 26.363636363636363 170.0 V 169.14405672841343 H 34.54545454545455\" id=\"edge_0_3\"/><path d=\"M 42.72727272727273 170.0 V 169.14405672841343 H 34.54545454545455\" id=\"edge_0_7\"/><path d=\"M 71.36363636363636 158.77902209543515 V 151.84484095860583 H 52.95454545454545\" id=\"edge_0_12\"/><path d=\"M 59.09090909090909 170.0 V 158.77902209543515 H 71.36363636363636\" id=\"edge_0_6\"/><path d=\"M 83.63636363636363 167.99565552412284 V 158.77902209543515 H 71.36363636363636\" id=\"edge_0_11\"/><path d=\"M 75.45454545454545 170.0 V 167.99565552412284 H 83.63636363636363\" id=\"edge_0_2\"/><path d=\"M 91.81818181818181 170.0 V 167.99565552412284 H 83.63636363636363\" id=\"edge_0_9\"/><path d=\"M 142.95454545454544 144.34409921779428 V 30.0 H 97.95454545454544\" id=\"edge_0_17\"/><path d=\"M 120.45454545454544 153.94916361032637 V 144.34409921779428 H 142.95454545454544\" id=\"edge_0_14\"/><path d=\"M 108.18181818181817 170.0 V 153.94916361032637 H 120.45454545454544\" id=\"edge_0_4\"/><path d=\"M 132.72727272727272 155.3519605321871 V 153.94916361032637 H 120.45454545454544\" id=\"edge_0_13\"/><path d=\"M 124.54545454545453 170.0 V 155.3519605321871 H 132.72727272727272\" id=\"edge_0_0\"/><path d=\"M 140.9090909090909 170.0 V 155.3519605321871 H 132.72727272727272\" id=\"edge_0_1\"/><path d=\"M 165.45454545454547 153.76162528718845 V 144.34409921779428 H 142.95454545454544\" id=\"edge_0_15\"/><path d=\"M 157.27272727272728 170.0 V 153.76162528718845 H 165.45454545454547\" id=\"edge_0_5\"/><path d=\"M 173.63636363636365 170.0 V 153.76162528718845 H 165.45454545454547\" id=\"edge_0_8\"/></g><g id=\"symbols\"><g class=\"nodes\"><circle cx=\"97.95454545454544\" cy=\"30.0\" id=\"node_0_18\" r=\"3\"/><circle cx=\"52.95454545454545\" cy=\"151.84484095860583\" id=\"node_0_16\" r=\"3\"/><circle cx=\"34.54545454545455\" cy=\"169.14405672841343\" id=\"node_0_10\" r=\"3\"/><circle cx=\"26.363636363636363\" cy=\"170.0\" id=\"node_0_3\" r=\"3\"/><circle cx=\"42.72727272727273\" cy=\"170.0\" id=\"node_0_7\" r=\"3\"/><circle cx=\"71.36363636363636\" cy=\"158.77902209543515\" id=\"node_0_12\" r=\"3\"/><circle cx=\"59.09090909090909\" cy=\"170.0\" id=\"node_0_6\" r=\"3\"/><circle cx=\"83.63636363636363\" cy=\"167.99565552412284\" id=\"node_0_11\" r=\"3\"/><circle cx=\"75.45454545454545\" cy=\"170.0\" id=\"node_0_2\" r=\"3\"/><circle cx=\"91.81818181818181\" cy=\"170.0\" id=\"node_0_9\" r=\"3\"/><circle cx=\"142.95454545454544\" cy=\"144.34409921779428\" id=\"node_0_17\" r=\"3\"/><circle cx=\"120.45454545454544\" cy=\"153.94916361032637\" id=\"node_0_14\" r=\"3\"/><circle cx=\"108.18181818181817\" cy=\"170.0\" id=\"node_0_4\" r=\"3\"/><circle cx=\"132.72727272727272\" cy=\"155.3519605321871\" id=\"node_0_13\" r=\"3\"/><circle cx=\"124.54545454545453\" cy=\"170.0\" id=\"node_0_0\" r=\"3\"/><circle cx=\"140.9090909090909\" cy=\"170.0\" id=\"node_0_1\" r=\"3\"/><circle cx=\"165.45454545454547\" cy=\"153.76162528718845\" id=\"node_0_15\" r=\"3\"/><circle cx=\"157.27272727272728\" cy=\"170.0\" id=\"node_0_5\" r=\"3\"/><circle cx=\"173.63636363636365\" cy=\"170.0\" id=\"node_0_8\" r=\"3\"/></g><g class=\"mutations\" fill=\"red\"><rect height=\"6\" transform=\"translate(-3, -3)\" width=\"6\" x=\"52.95454545454545\" y=\"50.30747349310097\"/><rect height=\"6\" transform=\"translate(-3, -3)\" width=\"6\" x=\"52.95454545454545\" y=\"70.61494698620194\"/><rect height=\"6\" transform=\"translate(-3, -3)\" width=\"6\" x=\"52.95454545454545\" y=\"90.92242047930291\"/><rect height=\"6\" transform=\"translate(-3, -3)\" width=\"6\" x=\"52.95454545454545\" y=\"111.22989397240389\"/><rect height=\"6\" transform=\"translate(-3, -3)\" width=\"6\" x=\"52.95454545454545\" y=\"131.53736746550487\"/><rect height=\"6\" transform=\"translate(-3, -3)\" width=\"6\" x=\"34.54545454545455\" y=\"157.61124621520835\"/><rect height=\"6\" transform=\"translate(-3, -3)\" width=\"6\" x=\"34.54545454545455\" y=\"163.37765147181088\"/><rect height=\"6\" transform=\"translate(-3, -3)\" width=\"6\" x=\"83.63636363636363\" y=\"163.387338809779\"/><rect height=\"6\" transform=\"translate(-3, -3)\" width=\"6\" x=\"142.95454545454544\" y=\"49.057349869632375\"/><rect height=\"6\" transform=\"translate(-3, -3)\" width=\"6\" x=\"142.95454545454544\" y=\"68.11469973926475\"/><rect height=\"6\" transform=\"translate(-3, -3)\" width=\"6\" x=\"142.95454545454544\" y=\"87.17204960889713\"/><rect height=\"6\" transform=\"translate(-3, -3)\" width=\"6\" x=\"142.95454545454544\" y=\"106.2293994785295\"/><rect height=\"6\" transform=\"translate(-3, -3)\" width=\"6\" x=\"142.95454545454544\" y=\"125.28674934816188\"/><rect height=\"6\" transform=\"translate(-3, -3)\" width=\"6\" x=\"108.18181818181817\" y=\"161.97458180516318\"/><rect height=\"6\" transform=\"translate(-3, -3)\" width=\"6\" x=\"132.72727272727272\" y=\"154.65056207125673\"/><rect height=\"6\" transform=\"translate(-3, -3)\" width=\"6\" x=\"140.9090909090909\" y=\"159.0139703991403\"/><rect height=\"6\" transform=\"translate(-3, -3)\" width=\"6\" x=\"140.9090909090909\" y=\"162.67598026609352\"/><rect height=\"6\" transform=\"translate(-3, -3)\" width=\"6\" x=\"140.9090909090909\" y=\"166.33799013304673\"/><rect height=\"6\" transform=\"translate(-3, -3)\" width=\"6\" x=\"157.27272727272728\" y=\"159.17441685812562\"/><rect height=\"6\" transform=\"translate(-3, -3)\" width=\"6\" x=\"157.27272727272728\" y=\"164.5872084290628\"/><rect height=\"6\" transform=\"translate(-3, -3)\" width=\"6\" x=\"173.63636363636365\" y=\"161.88081264359423\"/></g></g><g font-size=\"14\" id=\"labels\"><g class=\"nodes\"><g text-anchor=\"start\"><text x=\"76.36363636363636\" y=\"153.77902209543515\">12</text><text x=\"88.63636363636363\" y=\"162.99565552412284\">11</text><text x=\"147.95454545454544\" y=\"139.34409921779428\">17</text><text x=\"137.72727272727272\" y=\"150.3519605321871\">13</text><text x=\"170.45454545454547\" y=\"148.76162528718845\">15</text></g><g text-anchor=\"middle\"><text x=\"97.95454545454544\" y=\"25.0\">18</text><text x=\"26.363636363636363\" y=\"190.0\">3</text><text x=\"42.72727272727273\" y=\"190.0\">7</text><text x=\"59.09090909090909\" y=\"190.0\">6</text><text x=\"75.45454545454545\" y=\"190.0\">2</text><text x=\"91.81818181818181\" y=\"190.0\">9</text><text x=\"108.18181818181817\" y=\"190.0\">4</text><text x=\"124.54545454545453\" y=\"190.0\">0</text><text x=\"140.9090909090909\" y=\"190.0\">1</text><text x=\"157.27272727272728\" y=\"190.0\">5</text><text x=\"173.63636363636365\" y=\"190.0\">8</text></g><g text-anchor=\"end\"><text x=\"47.95454545454545\" y=\"146.84484095860583\">16</text><text x=\"29.545454545454547\" y=\"164.14405672841343\">10</text><text x=\"115.45454545454544\" y=\"148.94916361032637\">14</text></g></g><g class=\"mutations\" font-style=\"italic\"><g text-anchor=\"start\"><text x=\"88.63636363636363\" y=\"167.387338809779\">4</text><text x=\"147.95454545454544\" y=\"53.057349869632375\">16</text><text x=\"147.95454545454544\" y=\"72.11469973926475\">15</text><text x=\"147.95454545454544\" y=\"91.17204960889713\">14</text><text x=\"147.95454545454544\" y=\"110.2293994785295\">9</text><text x=\"147.95454545454544\" y=\"129.2867493481619\">6</text><text x=\"137.72727272727272\" y=\"158.65056207125673\">20</text><text x=\"145.9090909090909\" y=\"163.0139703991403\">8</text><text x=\"145.9090909090909\" y=\"166.67598026609352\">2</text><text x=\"145.9090909090909\" y=\"170.33799013304673\">0</text><text x=\"178.63636363636365\" y=\"165.88081264359423\">12</text></g><g text-anchor=\"end\"><text x=\"47.95454545454545\" y=\"54.30747349310097\">18</text><text x=\"47.95454545454545\" y=\"74.61494698620194\">13</text><text x=\"47.95454545454545\" y=\"94.92242047930291\">11</text><text x=\"47.95454545454545\" y=\"115.22989397240389\">7</text><text x=\"47.95454545454545\" y=\"135.53736746550487\">3</text><text x=\"29.545454545454547\" y=\"161.61124621520835\">5</text><text x=\"29.545454545454547\" y=\"167.37765147181088\">1</text><text x=\"103.18181818181817\" y=\"165.97458180516318\">19</text><text x=\"152.27272727272728\" y=\"163.17441685812562\">17</text><text x=\"152.27272727272728\" y=\"168.5872084290628\">10</text></g></g></g></g></svg>"
      ],
      "text/plain": [
       "<IPython.core.display.SVG object>"
      ]
     },
     "execution_count": 131,
     "metadata": {},
     "output_type": "execute_result"
    }
   ],
   "source": [
    "demographic_events = [msprime.InstantaneousBottleneck(time=0.5, strength=1, population=0)]\n",
    "tree_sequence = msprime.simulate(\n",
    "    sample_size=10, Ne=1000, length=5e4, mutation_rate=5e-8, random_seed=30,demographic_events=demographic_events)\n",
    "\n",
    "# Nucleotide diversity (pi)\n",
    "print(tree_sequence.diversity()) \n",
    "# Number of segregating sites \n",
    "print(tree_sequence.segregating_sites(span_normalise=False))\n",
    "# Tajima's D\n",
    "print(tree_sequence.Tajimas_D())\n",
    "\n",
    "IPython.display.SVG(tree_sequence.first().draw())\n"
   ]
  },
  {
   "cell_type": "code",
   "execution_count": 211,
   "metadata": {},
   "outputs": [
    {
     "name": "stdout",
     "output_type": "stream",
     "text": [
      "4e-06\n",
      "1.0\n",
      "-1.1117331765568994\n"
     ]
    },
    {
     "data": {
      "image/svg+xml": [
       "<svg baseProfile=\"full\" height=\"200\" version=\"1.1\" width=\"200\" xmlns=\"http://www.w3.org/2000/svg\" xmlns:ev=\"http://www.w3.org/2001/xml-events\" xmlns:xlink=\"http://www.w3.org/1999/xlink\"><defs/><g id=\"tree_0\"><g fill=\"none\" id=\"edges\" stroke=\"black\"><path d=\"M 26.363636363636363 170.0 V 30.0 H 50.39772727272728\" id=\"edge_0_6\"/><path d=\"M 74.43181818181819 45.69493515972022 V 30.0 H 50.39772727272728\" id=\"edge_0_17\"/><path d=\"M 42.72727272727273 170.0 V 45.69493515972022 H 74.43181818181819\" id=\"edge_0_3\"/><path d=\"M 106.13636363636364 59.983641748122 V 45.69493515972022 H 74.43181818181819\" id=\"edge_0_16\"/><path d=\"M 73.4090909090909 95.96171247813929 V 59.983641748122 H 106.13636363636364\" id=\"edge_0_13\"/><path d=\"M 59.09090909090909 170.0 V 95.96171247813929 H 73.4090909090909\" id=\"edge_0_8\"/><path d=\"M 87.72727272727272 98.43023175999645 V 95.96171247813929 H 73.4090909090909\" id=\"edge_0_12\"/><path d=\"M 75.45454545454545 170.0 V 98.43023175999645 H 87.72727272727272\" id=\"edge_0_9\"/><path d=\"M 100.0 116.03073815701478 V 98.43023175999645 H 87.72727272727272\" id=\"edge_0_11\"/><path d=\"M 91.81818181818181 170.0 V 116.03073815701478 H 100.0\" id=\"edge_0_1\"/><path d=\"M 108.18181818181817 170.0 V 116.03073815701478 H 100.0\" id=\"edge_0_4\"/><path d=\"M 138.86363636363637 62.279489950403445 V 59.983641748122 H 106.13636363636364\" id=\"edge_0_15\"/><path d=\"M 124.54545454545453 170.0 V 62.279489950403445 H 138.86363636363637\" id=\"edge_0_5\"/><path d=\"M 153.1818181818182 63.23303713911562 V 62.279489950403445 H 138.86363636363637\" id=\"edge_0_14\"/><path d=\"M 140.9090909090909 170.0 V 63.23303713911562 H 153.1818181818182\" id=\"edge_0_2\"/><path d=\"M 165.45454545454547 167.13568688186837 V 63.23303713911562 H 153.1818181818182\" id=\"edge_0_10\"/><path d=\"M 157.27272727272728 170.0 V 167.13568688186837 H 165.45454545454547\" id=\"edge_0_0\"/><path d=\"M 173.63636363636365 170.0 V 167.13568688186837 H 165.45454545454547\" id=\"edge_0_7\"/></g><g id=\"symbols\"><g class=\"nodes\"><circle cx=\"50.39772727272728\" cy=\"30.0\" id=\"node_0_18\" r=\"3\"/><circle cx=\"26.363636363636363\" cy=\"170.0\" id=\"node_0_6\" r=\"3\"/><circle cx=\"74.43181818181819\" cy=\"45.69493515972022\" id=\"node_0_17\" r=\"3\"/><circle cx=\"42.72727272727273\" cy=\"170.0\" id=\"node_0_3\" r=\"3\"/><circle cx=\"106.13636363636364\" cy=\"59.983641748122\" id=\"node_0_16\" r=\"3\"/><circle cx=\"73.4090909090909\" cy=\"95.96171247813929\" id=\"node_0_13\" r=\"3\"/><circle cx=\"59.09090909090909\" cy=\"170.0\" id=\"node_0_8\" r=\"3\"/><circle cx=\"87.72727272727272\" cy=\"98.43023175999645\" id=\"node_0_12\" r=\"3\"/><circle cx=\"75.45454545454545\" cy=\"170.0\" id=\"node_0_9\" r=\"3\"/><circle cx=\"100.0\" cy=\"116.03073815701478\" id=\"node_0_11\" r=\"3\"/><circle cx=\"91.81818181818181\" cy=\"170.0\" id=\"node_0_1\" r=\"3\"/><circle cx=\"108.18181818181817\" cy=\"170.0\" id=\"node_0_4\" r=\"3\"/><circle cx=\"138.86363636363637\" cy=\"62.279489950403445\" id=\"node_0_15\" r=\"3\"/><circle cx=\"124.54545454545453\" cy=\"170.0\" id=\"node_0_5\" r=\"3\"/><circle cx=\"153.1818181818182\" cy=\"63.23303713911562\" id=\"node_0_14\" r=\"3\"/><circle cx=\"140.9090909090909\" cy=\"170.0\" id=\"node_0_2\" r=\"3\"/><circle cx=\"165.45454545454547\" cy=\"167.13568688186837\" id=\"node_0_10\" r=\"3\"/><circle cx=\"157.27272727272728\" cy=\"170.0\" id=\"node_0_0\" r=\"3\"/><circle cx=\"173.63636363636365\" cy=\"170.0\" id=\"node_0_7\" r=\"3\"/></g><g class=\"mutations\" fill=\"red\"><rect height=\"6\" transform=\"translate(-3, -3)\" width=\"6\" x=\"108.18181818181817\" y=\"143.01536907850738\"/></g></g><g font-size=\"14\" id=\"labels\"><g class=\"nodes\"><g text-anchor=\"start\"><text x=\"79.43181818181819\" y=\"40.69493515972022\">17</text><text x=\"111.13636363636364\" y=\"54.983641748122\">16</text><text x=\"92.72727272727272\" y=\"93.43023175999645\">12</text><text x=\"105.0\" y=\"111.03073815701478\">11</text><text x=\"143.86363636363637\" y=\"57.279489950403445\">15</text><text x=\"158.1818181818182\" y=\"58.23303713911562\">14</text><text x=\"170.45454545454547\" y=\"162.13568688186837\">10</text></g><g text-anchor=\"middle\"><text x=\"50.39772727272728\" y=\"25.0\">18</text><text x=\"26.363636363636363\" y=\"190.0\">6</text><text x=\"42.72727272727273\" y=\"190.0\">3</text><text x=\"59.09090909090909\" y=\"190.0\">8</text><text x=\"75.45454545454545\" y=\"190.0\">9</text><text x=\"91.81818181818181\" y=\"190.0\">1</text><text x=\"108.18181818181817\" y=\"190.0\">4</text><text x=\"124.54545454545453\" y=\"190.0\">5</text><text x=\"140.9090909090909\" y=\"190.0\">2</text><text x=\"157.27272727272728\" y=\"190.0\">0</text><text x=\"173.63636363636365\" y=\"190.0\">7</text></g><g text-anchor=\"end\"><text x=\"68.4090909090909\" y=\"90.96171247813929\">13</text></g></g><g class=\"mutations\" font-style=\"italic\"><g text-anchor=\"start\"><text x=\"113.18181818181817\" y=\"147.01536907850738\">0</text></g><g text-anchor=\"end\"/></g></g></g></svg>"
      ],
      "text/plain": [
       "<IPython.core.display.SVG object>"
      ]
     },
     "execution_count": 211,
     "metadata": {},
     "output_type": "execute_result"
    }
   ],
   "source": [
    "demographic_events = [msprime.PopulationParametersChange(time=0.5, growth_rate=0.05, population=0)]\n",
    "tree_sequence = msprime.simulate(\n",
    "    sample_size=10, Ne=1000, length=50e3, mutation_rate=5e-8, random_seed=31,demographic_events=demographic_events)\n",
    "# Nucleotide diversity (pi)\n",
    "print(tree_sequence.diversity()) \n",
    "# Number of segregating sites \n",
    "print(tree_sequence.segregating_sites(span_normalise=False))\n",
    "# Tajima's D\n",
    "print(tree_sequence.Tajimas_D())\n",
    "\n",
    "IPython.display.SVG(tree_sequence.first().draw())"
   ]
  },
  {
   "cell_type": "markdown",
   "metadata": {},
   "source": [
    "## Simulating under human demographic models using stdpopsim"
   ]
  },
  {
   "cell_type": "markdown",
   "metadata": {},
   "source": [
    "In order to do more realistic simulations for human populations, we want to use demographic models inferred from real data. `stdpopsim` is a software that uses `msprime` to do according to pre-defined demographic models. The `stdpopsim` tutorial is located here (https://stdpopsim.readthedocs.io/en/latest/tutorial.html).  "
   ]
  },
  {
   "cell_type": "markdown",
   "metadata": {},
   "source": [
    "To run stdpopsim we are first going to pick the species (humans) and the genetic map. Here we are simulating 5% of chromosome 2 (approximately 12 Mb). The demographic model is the \"OutOfArfica_3G09\" model which allows us to sample individuals from either present day YRI, CEU, and CHB populations. Here we will simulate 50 samples from each population. The output is the same tree sequence object we saw in the msprime examples above.   "
   ]
  },
  {
   "cell_type": "code",
   "execution_count": 168,
   "metadata": {},
   "outputs": [],
   "source": [
    "import stdpopsim\n",
    "import json\n",
    "\n",
    "species = stdpopsim.get_species(\"HomSap\")\n",
    "contig = species.get_contig(\"chr2\", length_multiplier=0.05)\n",
    "model = species.get_demographic_model('OutOfAfrica_3G09')\n",
    "samples = model.get_samples(50, 50, 50) #(YRI, CEU, CHB)\n",
    "engine = stdpopsim.get_engine('msprime')\n",
    "ts = engine.simulate(model, contig, samples, seed=16)"
   ]
  },
  {
   "cell_type": "markdown",
   "metadata": {},
   "source": [
    "**Question** Use the stdpopsim catalog to look up details of the three population out of Africa model (https://stdpopsim.readthedocs.io/en/latest/catalog.html#sec-catalog). What the population size of CHB after the EU/AS split? What is the growth rate of CHB after the split? "
   ]
  },
  {
   "cell_type": "markdown",
   "metadata": {},
   "source": [
    "**Answer**"
   ]
  },
  {
   "cell_type": "markdown",
   "metadata": {},
   "source": [
    "Now that we have the tree sequence object for our simulation let's calculate some summary statistics.  "
   ]
  },
  {
   "cell_type": "markdown",
   "metadata": {},
   "source": [
    "**Question** Which population do you think will have the most segregating sites and why? "
   ]
  },
  {
   "cell_type": "markdown",
   "metadata": {},
   "source": [
    "**Answer:**"
   ]
  },
  {
   "cell_type": "markdown",
   "metadata": {},
   "source": [
    "Let's do simulations to check our intuition. We will first define our three population samples. YRI are samples 1-50, CEU are 51-100, and CHB are 101-150. We can then tell `tskit` to calculate the number of segregating sites separately for each population."
   ]
  },
  {
   "cell_type": "code",
   "execution_count": 169,
   "metadata": {},
   "outputs": [
    {
     "name": "stdout",
     "output_type": "stream",
     "text": [
      "[27690. 17838. 17336.]\n"
     ]
    }
   ],
   "source": [
    "YRI = ts.samples()[:50]\n",
    "CEU = ts.samples()[50:100]\n",
    "CHB = ts.samples()[100:150]\n",
    "\n",
    "print(ts.segregating_sites(span_normalise=False,sample_sets=[YRI,CEU,CHB]))"
   ]
  },
  {
   "cell_type": "markdown",
   "metadata": {},
   "source": [
    "**Question** Which population do you think will have highest pairwise diversity? Give your prediction and explain your reasoning. Use the `tskit` we used above for caclulating pariwise diversity to check your prediction. "
   ]
  },
  {
   "cell_type": "markdown",
   "metadata": {},
   "source": [
    "**Answer** "
   ]
  },
  {
   "cell_type": "code",
   "execution_count": 172,
   "metadata": {},
   "outputs": [
    {
     "name": "stdout",
     "output_type": "stream",
     "text": [
      "[0.0004457  0.00032238 0.00032145]\n"
     ]
    }
   ],
   "source": [
    "## your code goes here\n",
    "print(ts.diversity(sample_sets=[YRI,CEU,CHB]))"
   ]
  },
  {
   "cell_type": "markdown",
   "metadata": {},
   "source": [
    "**Question** Given what you have just calculated and what you know about human population history, which population do you think will have the highest Tajima's D value? Which one the lowest? Explain your thinking then check your prediction. "
   ]
  },
  {
   "cell_type": "markdown",
   "metadata": {},
   "source": [
    "**Answer** "
   ]
  },
  {
   "cell_type": "code",
   "execution_count": 171,
   "metadata": {},
   "outputs": [
    {
     "name": "stdout",
     "output_type": "stream",
     "text": [
      "[-0.45214072 -0.05736845  0.03649163]\n"
     ]
    }
   ],
   "source": [
    "# your code goes here \n",
    "print(ts.Tajimas_D(sample_sets=[YRI,CEU,CHB]))"
   ]
  },
  {
   "cell_type": "markdown",
   "metadata": {},
   "source": [
    "**Question** Below is code to extract the genotype matrix for each population. Use these genotype matrices and the function you wrote above to plot the SFS for all populations and comment on differences that you see. Bonus if you can plot the SFS on a log-log scale. "
   ]
  },
  {
   "cell_type": "markdown",
   "metadata": {},
   "source": [
    "**Answer** "
   ]
  },
  {
   "cell_type": "code",
   "execution_count": 180,
   "metadata": {},
   "outputs": [],
   "source": [
    "G = ts.genotype_matrix()\n",
    "G = np.int8(G)\n",
    "\n",
    "G_YRI = G[:,0:50]\n",
    "G_CEU = G[:,50:100]\n",
    "G_CHB = G[:,100:150]"
   ]
  },
  {
   "cell_type": "code",
   "execution_count": 192,
   "metadata": {},
   "outputs": [
    {
     "data": {
      "image/png": "[encoded data removed]"
     },
     "metadata": {},
     "output_type": "display_data"
    }
   ],
   "source": [
    "%%R -i G_CHB,G_YRI,G_CEU\n",
    "# SFS G_YRI\n",
    "barplot(SFS(G_YRI))"
   ]
  },
  {
   "cell_type": "code",
   "execution_count": 184,
   "metadata": {},
   "outputs": [
    {
     "data": {
      "image/png": "[encoded data removed]"
     },
     "metadata": {},
     "output_type": "display_data"
    }
   ],
   "source": [
    "%%R -i G_CHB,G_YRI,G_CEU\n",
    "# SFS G_CEU\n",
    "barplot(SFS(G_CEU))"
   ]
  },
  {
   "cell_type": "code",
   "execution_count": 185,
   "metadata": {},
   "outputs": [
    {
     "data": {
      "image/png": "[encoded data removed]"
     },
     "metadata": {},
     "output_type": "display_data"
    }
   ],
   "source": [
    "%%R -i G_CHB,G_YRI,G_CEU\n",
    "# SFS G_CHB\n",
    "barplot(SFS(G_CHB))"
   ]
  },
  {
   "cell_type": "code",
   "execution_count": null,
   "metadata": {},
   "outputs": [],
   "source": [
    "# python code goes here "
   ]
  }
 ],
 "metadata": {
  "kernelspec": {
   "display_name": "Python 3",
   "language": "python",
   "name": "python3"
  },
  "language_info": {
   "codemirror_mode": {
    "name": "ipython",
    "version": 3
   },
   "file_extension": ".py",
   "mimetype": "text/x-python",
   "name": "python",
   "nbconvert_exporter": "python",
   "pygments_lexer": "ipython3",
   "version": "3.7.3"
  }
 },
 "nbformat": 4,
 "nbformat_minor": 2
}
