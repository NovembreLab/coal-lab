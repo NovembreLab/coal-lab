{
 "cells": [
  {
   "cell_type": "markdown",
   "metadata": {},
   "source": [
    "# Human Variation and Diesase Coalescent Computer Lab\n",
    "---"
   ]
  },
  {
   "cell_type": "markdown",
   "metadata": {},
   "source": [
    "Welcome to the coalescent computer lab! Here we'll explore some fundamentals of the coalescent using exploratory data analysis (i.e. computing summary statistics / visualization) and simulation. We'll learn about & employ a powerful coalescent simulator called `msprime`, which allows us to efficiently generate genealogies under a given demography and subsequently sprinkle mutations on these genealogies to generate sequence data. Coalescent simulation is a very important tool to be equipped with for the modern population geneticist for a number of reasons...\n",
    "\n",
    "* It allows us to develop intuition for a simple generative model that can help to explain patterns in real data\n",
    "* We can use simulations to compare the accuracy of methods and see where they break down or succeed\n",
    "* Simulation can be used in inference, for instance to obtain monte carlo estimates for particular steps of a intractable model or perform approximate Bayesian inference (ABC)\n",
    "\n",
    "A quick note about computing: The environment we are in is called a `jupyter notebook`. A `jupyter notebook` is an interactive computational portal that allows us to make documents that combine simple text formats (markdown / latex) and code. This is quite powerful as we can write up analyses and explorations in the notebook and annotate visualizations & code with text and even math. Jupyter is primarily geared for `python` but one can actually change the \"kernel\" of the notebook to use `R` and even `julia`. Today we'll actually be using a very interesting python package called `rpy2` which allows us to run `R` commands in a `python` “kernel”. We can even pass objects created in python into an `R` code block. How this works will become more clear as we get started. \n",
    "\n",
    "Alright, now let us begin by importing various libraries that we'll be using in this notebook!"
   ]
  },
  {
   "cell_type": "markdown",
   "metadata": {},
   "source": [
    "## Imports / Configuration"
   ]
  },
  {
   "cell_type": "markdown",
   "metadata": {},
   "source": [
    "Here we load a jupyter extension that allows us to use `rpy2` to pass objects back and forth between `R` and `python` code blocks. "
   ]
  },
  {
   "cell_type": "code",
   "execution_count": 1,
   "metadata": {},
   "outputs": [],
   "source": [
    "%load_ext rpy2.ipython"
   ]
  },
  {
   "cell_type": "markdown",
   "metadata": {},
   "source": [
    "This is how we import packages in python. `numpy` is a python package for creating, manipulating and operating on arrays. As we mentioned previously, `msprime` is a python package for performing coalescent simulations. It expands upon [Dick Hudson's](http://home.uchicago.edu/rhudson1/), a UChicago professor and coalescent pioneer, `ms` software. We will also load the `Ipython` package which will allow us to better visualize the coalescent trees we simulate. "
   ]
  },
  {
   "cell_type": "code",
   "execution_count": 4,
   "metadata": {},
   "outputs": [],
   "source": [
    "import numpy as np\n",
    "import msprime \n",
    "import IPython"
   ]
  },
  {
   "cell_type": "markdown",
   "metadata": {},
   "source": [
    "Here is a quick example of how we can pass python objects into `R`. Lets first create a simple matrix $\\mathbf{A}$ "
   ]
  },
  {
   "cell_type": "code",
   "execution_count": 5,
   "metadata": {},
   "outputs": [
    {
     "data": {
      "text/plain": [
       "array([[1, 2],\n",
       "       [3, 4]])"
      ]
     },
     "execution_count": 5,
     "metadata": {},
     "output_type": "execute_result"
    }
   ],
   "source": [
    "A = np.array([[1,2], [3, 4]])\n",
    "A"
   ]
  },
  {
   "cell_type": "markdown",
   "metadata": {},
   "source": [
    "Lets now import $\\mathbf{A}$ into `R`. To use `R` run the `%%R` command in the top of the code block ..."
   ]
  },
  {
   "cell_type": "code",
   "execution_count": 6,
   "metadata": {},
   "outputs": [
    {
     "name": "stdout",
     "output_type": "stream",
     "text": [
      "     [,1] [,2]\n",
      "[1,]    1    2\n",
      "[2,]    3    4\n"
     ]
    }
   ],
   "source": [
    "%%R -i A\n",
    "A"
   ]
  },
  {
   "cell_type": "markdown",
   "metadata": {},
   "source": [
    "Cool! That seems to work. Lets try making simple plot ..."
   ]
  },
  {
   "cell_type": "code",
   "execution_count": 7,
   "metadata": {},
   "outputs": [
    {
     "data": {
      "image/png": "[encoded data removed]"
     },
     "metadata": {},
     "output_type": "display_data"
    }
   ],
   "source": [
    "%%R\n",
    "hist(rnorm(1000))"
   ]
  },
  {
   "cell_type": "markdown",
   "metadata": {},
   "source": [
    "We are now equipped to run the rest of the notebook ..."
   ]
  },
  {
   "cell_type": "markdown",
   "metadata": {},
   "source": [
    "---"
   ]
  },
  {
   "cell_type": "markdown",
   "metadata": {},
   "source": [
    "## Coalescent simulation using `msprime`"
   ]
  },
  {
   "cell_type": "markdown",
   "metadata": {},
   "source": [
    "msprime is a widely used software for runnning coalescent simulations. There is a tutorial located here (https://msprime.readthedocs.io/en/stable/tutorial.html). This is a really nice [jupyter notebook](https://github.com/jhmarcus/spg-chapter/) written by [Jerome Kelleher](https://github.com/jeromekelleher), the author of `msprime`. Click the launch binder button at the bottom of the page. We strongly encourage you to change parameters in the notebook and build intuition on how that affects properties of coalescent trees and see how it matches your predictions from the theory we've learned in class."
   ]
  },
  {
   "cell_type": "markdown",
   "metadata": {},
   "source": [
    "## Writing your own coalescent simulations"
   ]
  },
  {
   "cell_type": "markdown",
   "metadata": {},
   "source": [
    "Let's start by running our first simulation! To do this we will use the function msprime.simulate(), passing in the sample size and effective population size $N_e$ as arguments. Here we are simulating a sample size of 5 with an effective population size of 1,000. Since we haven't provided a recombination rate, we are only simulating a single coalescent tree. Because we didn't set a seed and the coalescent is a random process, every time you run the chuck you should observe a different tree.   "
   ]
  },
  {
   "cell_type": "code",
   "execution_count": 6,
   "metadata": {},
   "outputs": [
    {
     "data": {
      "image/svg+xml": [
       "<svg baseProfile=\"full\" height=\"200\" version=\"1.1\" width=\"200\" xmlns=\"http://www.w3.org/2000/svg\" xmlns:ev=\"http://www.w3.org/2001/xml-events\" xmlns:xlink=\"http://www.w3.org/1999/xlink\"><defs/><g id=\"lines\" stroke=\"black\"><line x1=\"28.571428571428573\" x2=\"28.571428571428573\" y1=\"180.0\" y2=\"20.0\"/><line x1=\"28.571428571428573\" x2=\"64.28571428571429\" y1=\"20.0\" y2=\"20.0\"/><line x1=\"100.0\" x2=\"100.0\" y1=\"138.84782315841795\" y2=\"20.0\"/><line x1=\"100.0\" x2=\"64.28571428571429\" y1=\"20.0\" y2=\"20.0\"/><line x1=\"71.42857142857143\" x2=\"71.42857142857143\" y1=\"148.92830592016492\" y2=\"138.84782315841795\"/><line x1=\"71.42857142857143\" x2=\"100.0\" y1=\"138.84782315841795\" y2=\"138.84782315841795\"/><line x1=\"57.142857142857146\" x2=\"57.142857142857146\" y1=\"180.0\" y2=\"148.92830592016492\"/><line x1=\"57.142857142857146\" x2=\"71.42857142857143\" y1=\"148.92830592016492\" y2=\"148.92830592016492\"/><line x1=\"85.71428571428572\" x2=\"85.71428571428572\" y1=\"180.0\" y2=\"148.92830592016492\"/><line x1=\"85.71428571428572\" x2=\"71.42857142857143\" y1=\"148.92830592016492\" y2=\"148.92830592016492\"/><line x1=\"128.57142857142858\" x2=\"128.57142857142858\" y1=\"147.6350650877158\" y2=\"138.84782315841795\"/><line x1=\"128.57142857142858\" x2=\"100.0\" y1=\"138.84782315841795\" y2=\"138.84782315841795\"/><line x1=\"114.28571428571429\" x2=\"114.28571428571429\" y1=\"180.0\" y2=\"147.6350650877158\"/><line x1=\"114.28571428571429\" x2=\"128.57142857142858\" y1=\"147.6350650877158\" y2=\"147.6350650877158\"/><line x1=\"142.85714285714286\" x2=\"142.85714285714286\" y1=\"180.0\" y2=\"147.6350650877158\"/><line x1=\"142.85714285714286\" x2=\"128.57142857142858\" y1=\"147.6350650877158\" y2=\"147.6350650877158\"/></g><g fill=\"black\" id=\"nodes\"><circle cx=\"64.28571428571429\" cy=\"20.0\" r=\"3\"/><circle cx=\"28.571428571428573\" cy=\"180.0\" r=\"3\"/><circle cx=\"100.0\" cy=\"138.84782315841795\" r=\"3\"/><circle cx=\"71.42857142857143\" cy=\"148.92830592016492\" r=\"3\"/><circle cx=\"57.142857142857146\" cy=\"180.0\" r=\"3\"/><circle cx=\"85.71428571428572\" cy=\"180.0\" r=\"3\"/><circle cx=\"128.57142857142858\" cy=\"147.6350650877158\" r=\"3\"/><circle cx=\"114.28571428571429\" cy=\"180.0\" r=\"3\"/><circle cx=\"142.85714285714286\" cy=\"180.0\" r=\"3\"/></g><g fill=\"red\" id=\"mutations\"/><g font-size=\"14\" text-anchor=\"start\"><text x=\"105.0\" y=\"133.84782315841795\">7</text><text x=\"133.57142857142858\" y=\"142.6350650877158\">6</text></g><g font-size=\"14\" text-anchor=\"end\"><text x=\"66.42857142857143\" y=\"143.92830592016492\">5</text></g><g font-size=\"14\" text-anchor=\"middle\"><text x=\"64.28571428571429\" y=\"15.0\">8</text><text x=\"28.571428571428573\" y=\"200.0\">2</text><text x=\"57.142857142857146\" y=\"200.0\">0</text><text x=\"85.71428571428572\" y=\"200.0\">1</text><text x=\"114.28571428571429\" y=\"200.0\">3</text><text x=\"142.85714285714286\" y=\"200.0\">4</text></g><g alignment-baseline=\"middle\" font-size=\"14\" font-style=\"italic\" text-anchor=\"start\"/><g alignment-baseline=\"middle\" font-size=\"14\" font-style=\"italic\" text-anchor=\"end\"/></svg>"
      ],
      "text/plain": [
       "<IPython.core.display.SVG object>"
      ]
     },
     "execution_count": 6,
     "metadata": {},
     "output_type": "execute_result"
    }
   ],
   "source": [
    "tree_sequence = msprime.simulate(sample_size=5, Ne=1000)\n",
    "tree = tree_sequence.first()\n",
    "IPython.display.SVG(tree.draw())"
   ]
  },
  {
   "cell_type": "markdown",
   "metadata": {},
   "source": [
    "Now that we have simulated a coalescent tree, we might want to learn some properties of it. For example, let's find the $T_{MRCA}$ for our tree. "
   ]
  },
  {
   "cell_type": "code",
   "execution_count": 7,
   "metadata": {},
   "outputs": [
    {
     "data": {
      "text/plain": [
       "1979.140320859996"
      ]
     },
     "execution_count": 7,
     "metadata": {},
     "output_type": "execute_result"
    }
   ],
   "source": [
    "T_mrca = tree.time(tree.root)\n",
    "T_mrca"
   ]
  },
  {
   "cell_type": "markdown",
   "metadata": {},
   "source": [
    "However, this is just one simulation. Let's run 10,000 simulations and find the average $T_{MRCA}$."
   ]
  },
  {
   "cell_type": "code",
   "execution_count": 8,
   "metadata": {},
   "outputs": [
    {
     "data": {
      "text/plain": [
       "3175.2531306628475"
      ]
     },
     "execution_count": 8,
     "metadata": {},
     "output_type": "execute_result"
    }
   ],
   "source": [
    "num_reps = 10000\n",
    "T_mrca = np.zeros(num_reps)\n",
    "for j, ts in enumerate(msprime.simulate(sample_size=5, Ne=1000,num_replicates=num_reps)):\n",
    "    tree = ts.first()\n",
    "    T_mrca[j] = tree.time(tree.root)\n",
    "np.mean(T_mrca)"
   ]
  },
  {
   "cell_type": "markdown",
   "metadata": {},
   "source": [
    "**Question 1** Compare the result above to our theoretical expectation for $T_{MRCA}$ for $n=5$ and $N_e = 1000$. Then re-run the 10,000 simulations for $N_e = 10000$, do you expect the average $T_{MRCA}$ to increase or decrease, why? "
   ]
  },
  {
   "cell_type": "code",
   "execution_count": 9,
   "metadata": {},
   "outputs": [
    {
     "name": "stdout",
     "output_type": "stream",
     "text": [
      "[1] 3200\n",
      "[1] 32000\n"
     ]
    }
   ],
   "source": [
    "%%R \n",
    "# your R code goes here\n",
    "\n",
    "# Theoretical expectation for N=1000\n",
    "print(4*1000 * (1 - (1/5)))\n",
    "\n",
    "# Theoretical expectation for N=10000\n",
    "print(4*10000 * (1 - (1/5)))\n",
    "\n"
   ]
  },
  {
   "cell_type": "code",
   "execution_count": 10,
   "metadata": {},
   "outputs": [
    {
     "data": {
      "text/plain": [
       "32394.486097492176"
      ]
     },
     "execution_count": 10,
     "metadata": {},
     "output_type": "execute_result"
    }
   ],
   "source": [
    "# your python code goes here \n",
    "num_reps = 10000\n",
    "T_mrca = np.zeros(num_reps)\n",
    "for j, ts in enumerate(msprime.simulate(sample_size=5, Ne=10000,num_replicates=num_reps)):\n",
    "    tree = ts.first()\n",
    "    T_mrca[j] = tree.time(tree.root)\n",
    "np.mean(T_mrca)"
   ]
  },
  {
   "cell_type": "markdown",
   "metadata": {},
   "source": [
    "### Adding Recombination  "
   ]
  },
  {
   "cell_type": "markdown",
   "metadata": {},
   "source": [
    "While simulating a single coalescent tree is useful, often times we are interested in a locus of a specific length under the influence of recombination. This will create a series of coalescent trees over the length of our locus. In msprime we can use the same msprime.simulate() function and add two arguments, length and recombination_rate. The length parameter is the number of base pairs and recombination rate is in units of per base per generation. Here we are simulating trees across over a 10kb region with a recombination rate of $2×10^{−8}$ per base per generation, with a diploid effective population size of 1000   "
   ]
  },
  {
   "cell_type": "code",
   "execution_count": 13,
   "metadata": {},
   "outputs": [
    {
     "name": "stdout",
     "output_type": "stream",
     "text": [
      "--------------------\n",
      "tree 0: interval = (0.0, 1506.6544063171964)\n",
      "   6     \n",
      " ┏━┻━┓   \n",
      " ┃   5   \n",
      " ┃  ┏┻┓  \n",
      " 4  ┃ ┃  \n",
      "┏┻┓ ┃ ┃  \n",
      "0 3 1 2  \n",
      "\n",
      "--------------------\n",
      "tree 1: interval = (1506.6544063171964, 2738.340972628989)\n",
      "   8     \n",
      " ┏━┻━┓   \n",
      " ┃   5   \n",
      " ┃  ┏┻┓  \n",
      " 4  ┃ ┃  \n",
      "┏┻┓ ┃ ┃  \n",
      "0 3 1 2  \n",
      "\n",
      "--------------------\n",
      "tree 2: interval = (2738.340972628989, 8361.43215148743)\n",
      "   7     \n",
      " ┏━┻━┓   \n",
      " ┃   5   \n",
      " ┃  ┏┻┓  \n",
      " 4  ┃ ┃  \n",
      "┏┻┓ ┃ ┃  \n",
      "0 3 1 2  \n",
      "\n",
      "--------------------\n",
      "tree 3: interval = (8361.43215148743, 10000.0)\n",
      "   8     \n",
      " ┏━┻━┓   \n",
      " ┃   5   \n",
      " ┃  ┏┻┓  \n",
      " 4  ┃ ┃  \n",
      "┏┻┓ ┃ ┃  \n",
      "0 3 1 2  \n",
      "\n"
     ]
    }
   ],
   "source": [
    "tree_sequence = msprime.simulate(sample_size=4, Ne=1000, length=1e4, recombination_rate=2e-8, random_seed=31)\n",
    "# Let's look at the trees we made and the intervals they occur over \n",
    "for tree in tree_sequence.trees():\n",
    "    print(\"-\" * 20)\n",
    "    print(\"tree {}: interval = {}\".format(tree.index, tree.interval))\n",
    "    print(tree.draw(format=\"unicode\"))"
   ]
  },
  {
   "cell_type": "markdown",
   "metadata": {},
   "source": [
    "We have printed out the series of 4 coalescent trees for our locus and the intervals they occur over."
   ]
  },
  {
   "cell_type": "markdown",
   "metadata": {},
   "source": [
    "### Adding mutation"
   ]
  },
  {
   "cell_type": "markdown",
   "metadata": {},
   "source": [
    "So far we have simulated a region of chromosome with recombination, now want to put mutations down onto our sequence of coalescent trees. Mutations are generated in msprime by throwing mutations down on the branches of trees at a particular rate. The mutations are generated under the infinite sites model, and so each mutation occurs at a unique (floating point) point position along the genomic interval occupied by a tree. The mutation rate for simulations is specified using the mutation_rate parameter of msprime.simulate(). Below we will simulate 50kb or non-recombiing chromosome and add mutations onto the coalescent tree."
   ]
  },
  {
   "cell_type": "code",
   "execution_count": 13,
   "metadata": {},
   "outputs": [
    {
     "name": "stdout",
     "output_type": "stream",
     "text": [
      "Mutation @ position 1239.40 over node 13\n",
      "Mutation @ position 8842.09 over node 13\n",
      "Mutation @ position 11759.03 over node 11\n",
      "Mutation @ position 15806.67 over node 2\n",
      "Mutation @ position 16177.68 over node 13\n",
      "Mutation @ position 16762.10 over node 2\n",
      "Mutation @ position 17312.52 over node 2\n",
      "Mutation @ position 18349.37 over node 12\n",
      "Mutation @ position 29771.91 over node 2\n",
      "Mutation @ position 34897.51 over node 17\n",
      "Mutation @ position 41735.75 over node 12\n",
      "Mutation @ position 46566.56 over node 10\n",
      "Mutation @ position 49697.99 over node 14\n"
     ]
    },
    {
     "data": {
      "image/svg+xml": [
       "<svg baseProfile=\"full\" height=\"200\" version=\"1.1\" width=\"200\" xmlns=\"http://www.w3.org/2000/svg\" xmlns:ev=\"http://www.w3.org/2001/xml-events\" xmlns:xlink=\"http://www.w3.org/1999/xlink\"><defs/><g id=\"lines\" stroke=\"black\"><line x1=\"16.666666666666668\" x2=\"16.666666666666668\" y1=\"180.0\" y2=\"20.0\"/><line x1=\"16.666666666666668\" x2=\"37.890625\" y1=\"20.0\" y2=\"20.0\"/><line x1=\"59.11458333333334\" x2=\"59.11458333333334\" y1=\"102.51762321400449\" y2=\"20.0\"/><line x1=\"59.11458333333334\" x2=\"37.890625\" y1=\"20.0\" y2=\"20.0\"/><line x1=\"33.333333333333336\" x2=\"33.333333333333336\" y1=\"180.0\" y2=\"102.51762321400449\"/><line x1=\"33.333333333333336\" x2=\"59.11458333333334\" y1=\"102.51762321400449\" y2=\"102.51762321400449\"/><line x1=\"84.89583333333334\" x2=\"84.89583333333334\" y1=\"109.85650372272949\" y2=\"102.51762321400449\"/><line x1=\"84.89583333333334\" x2=\"59.11458333333334\" y1=\"102.51762321400449\" y2=\"102.51762321400449\"/><line x1=\"58.333333333333336\" x2=\"58.333333333333336\" y1=\"175.9109688527151\" y2=\"109.85650372272949\"/><line x1=\"58.333333333333336\" x2=\"84.89583333333334\" y1=\"109.85650372272949\" y2=\"109.85650372272949\"/><line x1=\"50.0\" x2=\"50.0\" y1=\"180.0\" y2=\"175.9109688527151\"/><line x1=\"50.0\" x2=\"58.333333333333336\" y1=\"175.9109688527151\" y2=\"175.9109688527151\"/><line x1=\"66.66666666666667\" x2=\"66.66666666666667\" y1=\"180.0\" y2=\"175.9109688527151\"/><line x1=\"66.66666666666667\" x2=\"58.333333333333336\" y1=\"175.9109688527151\" y2=\"175.9109688527151\"/><line x1=\"111.45833333333334\" x2=\"111.45833333333334\" y1=\"119.68913435261442\" y2=\"109.85650372272949\"/><line x1=\"111.45833333333334\" x2=\"84.89583333333334\" y1=\"109.85650372272949\" y2=\"109.85650372272949\"/><line x1=\"91.66666666666667\" x2=\"91.66666666666667\" y1=\"177.40521082095782\" y2=\"119.68913435261442\"/><line x1=\"91.66666666666667\" x2=\"111.45833333333334\" y1=\"119.68913435261442\" y2=\"119.68913435261442\"/><line x1=\"83.33333333333334\" x2=\"83.33333333333334\" y1=\"180.0\" y2=\"177.40521082095782\"/><line x1=\"83.33333333333334\" x2=\"91.66666666666667\" y1=\"177.40521082095782\" y2=\"177.40521082095782\"/><line x1=\"100.0\" x2=\"100.0\" y1=\"180.0\" y2=\"177.40521082095782\"/><line x1=\"100.0\" x2=\"91.66666666666667\" y1=\"177.40521082095782\" y2=\"177.40521082095782\"/><line x1=\"131.25\" x2=\"131.25\" y1=\"133.1698219553597\" y2=\"119.68913435261442\"/><line x1=\"131.25\" x2=\"111.45833333333334\" y1=\"119.68913435261442\" y2=\"119.68913435261442\"/><line x1=\"116.66666666666667\" x2=\"116.66666666666667\" y1=\"180.0\" y2=\"133.1698219553597\"/><line x1=\"116.66666666666667\" x2=\"131.25\" y1=\"133.1698219553597\" y2=\"133.1698219553597\"/><line x1=\"145.83333333333334\" x2=\"145.83333333333334\" y1=\"169.3155403806729\" y2=\"133.1698219553597\"/><line x1=\"145.83333333333334\" x2=\"131.25\" y1=\"133.1698219553597\" y2=\"133.1698219553597\"/><line x1=\"133.33333333333334\" x2=\"133.33333333333334\" y1=\"180.0\" y2=\"169.3155403806729\"/><line x1=\"133.33333333333334\" x2=\"145.83333333333334\" y1=\"169.3155403806729\" y2=\"169.3155403806729\"/><line x1=\"158.33333333333334\" x2=\"158.33333333333334\" y1=\"176.63225369944007\" y2=\"169.3155403806729\"/><line x1=\"158.33333333333334\" x2=\"145.83333333333334\" y1=\"169.3155403806729\" y2=\"169.3155403806729\"/><line x1=\"150.0\" x2=\"150.0\" y1=\"180.0\" y2=\"176.63225369944007\"/><line x1=\"150.0\" x2=\"158.33333333333334\" y1=\"176.63225369944007\" y2=\"176.63225369944007\"/><line x1=\"166.66666666666669\" x2=\"166.66666666666669\" y1=\"180.0\" y2=\"176.63225369944007\"/><line x1=\"166.66666666666669\" x2=\"158.33333333333334\" y1=\"176.63225369944007\" y2=\"176.63225369944007\"/></g><g fill=\"black\" id=\"nodes\"><circle cx=\"37.890625\" cy=\"20.0\" r=\"3\"/><circle cx=\"16.666666666666668\" cy=\"180.0\" r=\"3\"/><circle cx=\"59.11458333333334\" cy=\"102.51762321400449\" r=\"3\"/><circle cx=\"33.333333333333336\" cy=\"180.0\" r=\"3\"/><circle cx=\"84.89583333333334\" cy=\"109.85650372272949\" r=\"3\"/><circle cx=\"58.333333333333336\" cy=\"175.9109688527151\" r=\"3\"/><circle cx=\"50.0\" cy=\"180.0\" r=\"3\"/><circle cx=\"66.66666666666667\" cy=\"180.0\" r=\"3\"/><circle cx=\"111.45833333333334\" cy=\"119.68913435261442\" r=\"3\"/><circle cx=\"91.66666666666667\" cy=\"177.40521082095782\" r=\"3\"/><circle cx=\"83.33333333333334\" cy=\"180.0\" r=\"3\"/><circle cx=\"100.0\" cy=\"180.0\" r=\"3\"/><circle cx=\"131.25\" cy=\"133.1698219553597\" r=\"3\"/><circle cx=\"116.66666666666667\" cy=\"180.0\" r=\"3\"/><circle cx=\"145.83333333333334\" cy=\"169.3155403806729\" r=\"3\"/><circle cx=\"133.33333333333334\" cy=\"180.0\" r=\"3\"/><circle cx=\"158.33333333333334\" cy=\"176.63225369944007\" r=\"3\"/><circle cx=\"150.0\" cy=\"180.0\" r=\"3\"/><circle cx=\"166.66666666666669\" cy=\"180.0\" r=\"3\"/></g><g fill=\"red\" id=\"mutations\"><rect height=\"6\" width=\"6\" x=\"142.83333333333334\" y=\"157.2791107743446\"/><rect height=\"6\" width=\"6\" x=\"142.83333333333334\" y=\"148.2426811680163\"/><rect height=\"6\" width=\"6\" x=\"142.83333333333334\" y=\"139.20625156168802\"/><rect height=\"6\" width=\"6\" x=\"155.33333333333334\" y=\"169.9738970400565\"/><rect height=\"6\" width=\"6\" x=\"13.666666666666668\" y=\"145.0\"/><rect height=\"6\" width=\"6\" x=\"13.666666666666668\" y=\"113.0\"/><rect height=\"6\" width=\"6\" x=\"13.666666666666668\" y=\"81.0\"/><rect height=\"6\" width=\"6\" x=\"13.666666666666668\" y=\"49.0\"/><rect height=\"6\" width=\"6\" x=\"55.333333333333336\" y=\"150.89281380938655\"/><rect height=\"6\" width=\"6\" x=\"55.333333333333336\" y=\"128.87465876605802\"/><rect height=\"6\" width=\"6\" x=\"56.11458333333334\" y=\"58.258811607002244\"/><rect height=\"6\" width=\"6\" x=\"88.66666666666667\" y=\"145.54717258678613\"/><rect height=\"6\" width=\"6\" x=\"128.25\" y=\"123.42947815398706\"/></g><g font-size=\"14\" text-anchor=\"start\"><text x=\"64.11458333333334\" y=\"97.51762321400449\">17</text><text x=\"89.89583333333334\" y=\"104.85650372272949\">16</text><text x=\"116.45833333333334\" y=\"114.68913435261442\">15</text><text x=\"136.25\" y=\"128.1698219553597\">14</text><text x=\"150.83333333333334\" y=\"164.3155403806729\">13</text><text x=\"163.33333333333334\" y=\"171.63225369944007\">11</text></g><g font-size=\"14\" text-anchor=\"end\"><text x=\"53.333333333333336\" y=\"170.9109688527151\">12</text><text x=\"86.66666666666667\" y=\"172.40521082095782\">10</text></g><g font-size=\"14\" text-anchor=\"middle\"><text x=\"37.890625\" y=\"15.0\">18</text><text x=\"16.666666666666668\" y=\"200.0\">2</text><text x=\"33.333333333333336\" y=\"200.0\">5</text><text x=\"50.0\" y=\"200.0\">1</text><text x=\"66.66666666666667\" y=\"200.0\">3</text><text x=\"83.33333333333334\" y=\"200.0\">0</text><text x=\"100.0\" y=\"200.0\">6</text><text x=\"116.66666666666667\" y=\"200.0\">9</text><text x=\"133.33333333333334\" y=\"200.0\">8</text><text x=\"150.0\" y=\"200.0\">4</text><text x=\"166.66666666666669\" y=\"200.0\">7</text></g><g alignment-baseline=\"middle\" font-size=\"14\" font-style=\"italic\" text-anchor=\"start\"><text x=\"150.83333333333334\" y=\"164.7791107743446\">0</text><text x=\"150.83333333333334\" y=\"155.7426811680163\">1</text><text x=\"150.83333333333334\" y=\"146.70625156168802\">4</text><text x=\"163.33333333333334\" y=\"177.4738970400565\">2</text><text x=\"64.11458333333334\" y=\"65.75881160700224\">9</text><text x=\"136.25\" y=\"130.92947815398708\">12</text></g><g alignment-baseline=\"middle\" font-size=\"14\" font-style=\"italic\" text-anchor=\"end\"><text x=\"11.666666666666668\" y=\"152.5\">3</text><text x=\"11.666666666666668\" y=\"120.5\">5</text><text x=\"11.666666666666668\" y=\"88.5\">6</text><text x=\"11.666666666666668\" y=\"56.5\">8</text><text x=\"53.333333333333336\" y=\"158.39281380938655\">7</text><text x=\"53.333333333333336\" y=\"136.37465876605802\">10</text><text x=\"86.66666666666667\" y=\"153.04717258678613\">11</text></g></svg>"
      ],
      "text/plain": [
       "<IPython.core.display.SVG object>"
      ]
     },
     "execution_count": 13,
     "metadata": {},
     "output_type": "execute_result"
    }
   ],
   "source": [
    "tree_sequence = msprime.simulate(\n",
    "    sample_size=10, Ne=1000, length=50e3, mutation_rate=2e-8, random_seed=30)\n",
    "tree = tree_sequence.first()\n",
    "for site in tree.sites():\n",
    "     for mutation in site.mutations:\n",
    "            print(\"Mutation @ position {:.2f} over node {}\".format(\n",
    "                site.position, mutation.node))\n",
    "IPython.display.SVG(tree.draw())"
   ]
  },
  {
   "cell_type": "markdown",
   "metadata": {},
   "source": [
    "From here we can create a genotype matrix for our samples "
   ]
  },
  {
   "cell_type": "code",
   "execution_count": 14,
   "metadata": {},
   "outputs": [
    {
     "data": {
      "text/plain": [
       "array([[0, 0, 0, 0, 1, 0, 0, 1, 1, 0],\n",
       "       [0, 0, 0, 0, 1, 0, 0, 1, 1, 0],\n",
       "       [0, 0, 0, 0, 1, 0, 0, 1, 0, 0],\n",
       "       [0, 0, 1, 0, 0, 0, 0, 0, 0, 0],\n",
       "       [0, 0, 0, 0, 1, 0, 0, 1, 1, 0],\n",
       "       [0, 0, 1, 0, 0, 0, 0, 0, 0, 0],\n",
       "       [0, 0, 1, 0, 0, 0, 0, 0, 0, 0],\n",
       "       [0, 1, 0, 1, 0, 0, 0, 0, 0, 0],\n",
       "       [0, 0, 1, 0, 0, 0, 0, 0, 0, 0],\n",
       "       [1, 1, 0, 1, 1, 1, 1, 1, 1, 1],\n",
       "       [0, 1, 0, 1, 0, 0, 0, 0, 0, 0],\n",
       "       [1, 0, 0, 0, 0, 0, 1, 0, 0, 0],\n",
       "       [0, 0, 0, 0, 1, 0, 0, 1, 1, 1]], dtype=int8)"
      ]
     },
     "execution_count": 14,
     "metadata": {},
     "output_type": "execute_result"
    }
   ],
   "source": [
    "G = tree_sequence.genotype_matrix() \n",
    "# We need to convert data type so we can work with the genotype matrix in R\n",
    "G = np.int8(G)\n",
    "G"
   ]
  },
  {
   "cell_type": "markdown",
   "metadata": {},
   "source": [
    "In the genotype matrix each individual is a separate column and each mutation is a row. If we look at individual 2, we see that the should have a \"1\" indicating that they have the mutation for mutations 3, 5, 6, and 8. "
   ]
  },
  {
   "cell_type": "markdown",
   "metadata": {},
   "source": [
    "**Question 2** Write a function to calculate the number of segregating sites in the sample. "
   ]
  },
  {
   "cell_type": "code",
   "execution_count": 15,
   "metadata": {},
   "outputs": [
    {
     "name": "stdout",
     "output_type": "stream",
     "text": [
      "[1] 13\n"
     ]
    }
   ],
   "source": [
    "%%R -i G\n",
    "# R code goes here\n",
    "segregating_sites <- function(G) { \n",
    "    G <- t(G)\n",
    "    sums <- colSums(G)\n",
    "    s1 <- which(sums != 0 | sums != 1) \n",
    "    return(length(s1))\n",
    "}\n",
    "segregating_sites(G)"
   ]
  },
  {
   "cell_type": "code",
   "execution_count": 31,
   "metadata": {},
   "outputs": [],
   "source": [
    "# python code goes here "
   ]
  },
  {
   "cell_type": "markdown",
   "metadata": {},
   "source": [
    "**Question 3** Write a function to calculate nucleotide diversity in the sample."
   ]
  },
  {
   "cell_type": "code",
   "execution_count": 25,
   "metadata": {},
   "outputs": [
    {
     "name": "stdout",
     "output_type": "stream",
     "text": [
      "[1] 3.2e-07\n"
     ]
    }
   ],
   "source": [
    "%%R -i G\n",
    "# R code goes here\n",
    "calculate_pi <- function(G) { \n",
    "    G <- t(G)\n",
    "    diff <- 0\n",
    "    for (i in 1:nrow(G)) { \n",
    "        for (j in 1:i) {\n",
    "            if (i!=j) {\n",
    "                diff <- diff + sum(G[i,]!=G[j,])\n",
    "            } \n",
    "        }\n",
    "    }\n",
    "    out <- (diff / choose(50,2)) \n",
    "    return(out / (5000* 100))\n",
    "}\n",
    "\n",
    "calculate_pi(G)"
   ]
  },
  {
   "cell_type": "code",
   "execution_count": null,
   "metadata": {},
   "outputs": [],
   "source": [
    "# python code goes here "
   ]
  },
  {
   "cell_type": "markdown",
   "metadata": {},
   "source": [
    "**Question 4** Plot the site frequency spectrum for this sample "
   ]
  },
  {
   "cell_type": "code",
   "execution_count": 16,
   "metadata": {},
   "outputs": [
    {
     "data": {
      "image/png": "[encoded data removed]"
     },
     "metadata": {},
     "output_type": "display_data"
    }
   ],
   "source": [
    "%%R -i G\n",
    "# R code goes here\n",
    "SFS <- function(G) { \n",
    "    G <- t(G)\n",
    "    sfs <- colSums(G) \n",
    "    out <- table(sfs) \n",
    "    return(out)\n",
    "}\n",
    "\n",
    "barplot(SFS(G))"
   ]
  },
  {
   "cell_type": "code",
   "execution_count": null,
   "metadata": {},
   "outputs": [],
   "source": [
    "# python code goes here "
   ]
  },
  {
   "cell_type": "markdown",
   "metadata": {},
   "source": [
    "# Simulating under human demographic models using stdpopsim"
   ]
  },
  {
   "cell_type": "markdown",
   "metadata": {},
   "source": [
    "So far we have run standard coalescent simulations under a constant population size model. While these models are very important for building intuition and establishing theoretical expectations, we know that human populations have not had a constant population size. In order to do more realistic simulations for human populations, we want to use demographic models inferred from real data. `stdpopsim` is a software that uses `msprime` to do according to pre-defined demographic models. The `stdpopsim` tutorial is located here (https://stdpopsim.readthedocs.io/en/latest/tutorial.html).  "
   ]
  },
  {
   "cell_type": "markdown",
   "metadata": {},
   "source": [
    "To run stdpopsim we are first going to pick the species (humans) and the genetic map. Here we are simulating 5% of chromosome 2 (approximately 12 Mb). The demographic model is the \"OutOfArfica_3G09\" model which allows us to sample individuals from either present day YRI, CEU, and CHB populations. Here we will simulate 50 samples from the CHB population. The output is the same tree sequence object we saw in the msprime examples above.   "
   ]
  },
  {
   "cell_type": "code",
   "execution_count": 18,
   "metadata": {},
   "outputs": [],
   "source": [
    "import stdpopsim\n",
    "import json\n",
    "\n",
    "species = stdpopsim.get_species(\"HomSap\")\n",
    "contig = species.get_contig(\"chr2\", length_multiplier=0.05)\n",
    "model = species.get_demographic_model('OutOfAfrica_3G09')\n",
    "samples = model.get_samples(0, 0, 50) #(YRI, CEU, CHB)\n",
    "engine = stdpopsim.get_engine('msprime')\n",
    "ts = engine.simulate(model, contig, samples)\n",
    "\n",
    "G_CHB = ts.genotype_matrix()\n",
    "G_CHB = np.int8(G_CHB)"
   ]
  },
  {
   "cell_type": "markdown",
   "metadata": {},
   "source": [
    "**Question 5** Use the stdpopsim catalog to look up details of the three population out of Africa model (https://stdpopsim.readthedocs.io/en/latest/catalog.html#sec-catalog). What the population size of CHB after the EU/AS split? What is the growth rate of CHB after the split? "
   ]
  },
  {
   "cell_type": "markdown",
   "metadata": {},
   "source": [
    "Now we are going to repeat the simulations, this time sampling 50 YRI individuals and again for 50 CEU individuals. "
   ]
  },
  {
   "cell_type": "code",
   "execution_count": 30,
   "metadata": {},
   "outputs": [],
   "source": [
    "model = species.get_demographic_model('OutOfAfrica_3G09')\n",
    "samples = model.get_samples(50, 0, 0)\n",
    "engine = stdpopsim.get_engine('msprime')\n",
    "ts = engine.simulate(model, contig, samples)\n",
    "\n",
    "G_YRI = ts.genotype_matrix()\n",
    "G_YRI = np.int8(G_YRI)\n",
    "\n",
    "model = species.get_demographic_model('OutOfAfrica_3G09')\n",
    "samples = model.get_samples(0, 50, 0)\n",
    "engine = stdpopsim.get_engine('msprime')\n",
    "ts = engine.simulate(model, contig, samples)\n",
    "\n",
    "G_CEU = ts.genotype_matrix()\n",
    "G_CEU = np.int8(G_CEU)"
   ]
  },
  {
   "cell_type": "markdown",
   "metadata": {},
   "source": [
    "Now we have the genotype matrix for 50 samples from both the CHB, YRI, and CEU populations. We will now use the functions we wrote earlier in the lab to answer the following questions. "
   ]
  },
  {
   "cell_type": "markdown",
   "metadata": {},
   "source": [
    "**Question 6** Calculate the number of segrating sites for each model "
   ]
  },
  {
   "cell_type": "code",
   "execution_count": 23,
   "metadata": {},
   "outputs": [
    {
     "name": "stdout",
     "output_type": "stream",
     "text": [
      "[1] 29760\n",
      "[1] 17913\n",
      "[1] 16951\n"
     ]
    }
   ],
   "source": [
    "%%R -i G_CHB,G_YRI,G_CEU\n",
    "# R code goes here\n",
    "print(segregating_sites(G_YRI))\n",
    "print(segregating_sites(G_CEU))\n",
    "print(segregating_sites(G_CHB))"
   ]
  },
  {
   "cell_type": "code",
   "execution_count": null,
   "metadata": {},
   "outputs": [],
   "source": [
    "# python code goes here "
   ]
  },
  {
   "cell_type": "markdown",
   "metadata": {},
   "source": [
    "**Question 7** Calculate the nucleotide diversity for each model "
   ]
  },
  {
   "cell_type": "code",
   "execution_count": 26,
   "metadata": {},
   "outputs": [
    {
     "name": "stdout",
     "output_type": "stream",
     "text": [
      "[1] 0.01159174\n",
      "[1] 0.007933336\n",
      "[1] 0.007567481\n"
     ]
    }
   ],
   "source": [
    "%%R -i G_CHB,G_YRI,G_CEU\n",
    "# R code goes here\n",
    "print(calculate_pi(G_YRI))\n",
    "print(calculate_pi(G_CEU))\n",
    "print(calculate_pi(G_CHB))"
   ]
  },
  {
   "cell_type": "code",
   "execution_count": null,
   "metadata": {},
   "outputs": [],
   "source": [
    "# python code goes here "
   ]
  },
  {
   "cell_type": "markdown",
   "metadata": {},
   "source": [
    "**Question 8** Calculate the numerator Tajima's D for all models. Can you interpret your results given what we know about the models used to simulate this data? "
   ]
  },
  {
   "cell_type": "code",
   "execution_count": 27,
   "metadata": {},
   "outputs": [
    {
     "name": "stdout",
     "output_type": "stream",
     "text": [
      "[1] -6644.024\n",
      "[1] -3999.139\n",
      "[1] -3784.369\n"
     ]
    }
   ],
   "source": [
    "%%R -i G_CHB,G_YRI,G_GEU\n",
    "# R code goes here\n",
    "D_YRI = calculate_pi(G_YRI) - (segregating_sites(G_YRI)/ sum(1/seq(1,49)))\n",
    "print(D_YRI)\n",
    "\n",
    "D_CEU = calculate_pi(G_CEU) - (segregating_sites(G_CEU)/ sum(1/seq(1,49)))\n",
    "print(D_CEU)\n",
    "\n",
    "D_CHB = calculate_pi(G_CHB) - (segregating_sites(G_CHB)/ sum(1/seq(1,49)))\n",
    "print(D_CHB)"
   ]
  },
  {
   "cell_type": "markdown",
   "metadata": {},
   "source": [
    "**Question 9** Plot the SFS for both populations. Comment on any differences that you see. "
   ]
  },
  {
   "cell_type": "code",
   "execution_count": 32,
   "metadata": {},
   "outputs": [
    {
     "data": {
      "image/png": "[encoded data removed]"
     },
     "metadata": {},
     "output_type": "display_data"
    }
   ],
   "source": [
    "%%R -i G_CHB,G_YRI,G_CEU\n",
    "barplot(SFS(G_YRI))"
   ]
  },
  {
   "cell_type": "code",
   "execution_count": 87,
   "metadata": {},
   "outputs": [
    {
     "data": {
      "image/png": "[encoded data removed]"
     },
     "metadata": {},
     "output_type": "display_data"
    }
   ],
   "source": [
    "%%R -i G_CHB,G_YRI,G_CEU\n",
    "barplot(SFS(G_CEU))"
   ]
  },
  {
   "cell_type": "code",
   "execution_count": 33,
   "metadata": {},
   "outputs": [
    {
     "data": {
      "image/png": "[encoded data removed]"
     },
     "metadata": {},
     "output_type": "display_data"
    }
   ],
   "source": [
    "%%R -i G_CHB,G_YRI,G_CEU\n",
    "barplot(SFS(G_CHB))"
   ]
  },
  {
   "cell_type": "code",
   "execution_count": null,
   "metadata": {},
   "outputs": [],
   "source": [
    "# python code goes here "
   ]
  }
 ],
 "metadata": {
  "kernelspec": {
   "display_name": "Python 3",
   "language": "python",
   "name": "python3"
  },
  "language_info": {
   "codemirror_mode": {
    "name": "ipython",
    "version": 3
   },
   "file_extension": ".py",
   "mimetype": "text/x-python",
   "name": "python",
   "nbconvert_exporter": "python",
   "pygments_lexer": "ipython3",
   "version": "3.7.3"
  }
 },
 "nbformat": 4,
 "nbformat_minor": 2
}
